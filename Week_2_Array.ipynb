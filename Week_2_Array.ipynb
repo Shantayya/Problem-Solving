{
  "nbformat": 4,
  "nbformat_minor": 0,
  "metadata": {
    "colab": {
      "provenance": [],
      "authorship_tag": "ABX9TyNJnWXlHyMZwmjSX5GFkpSC",
      "include_colab_link": true
    },
    "kernelspec": {
      "name": "python3",
      "display_name": "Python 3"
    },
    "language_info": {
      "name": "python"
    }
  },
  "cells": [
    {
      "cell_type": "markdown",
      "metadata": {
        "id": "view-in-github",
        "colab_type": "text"
      },
      "source": [
        "<a href=\"https://colab.research.google.com/github/Shantayya/Problem-Solving/blob/main/Week_2_Array.ipynb\" target=\"_parent\"><img src=\"https://colab.research.google.com/assets/colab-badge.svg\" alt=\"Open In Colab\"/></a>"
      ]
    },
    {
      "cell_type": "markdown",
      "source": [
        "**1. Count of Elements**\n",
        "\n",
        "**Problem Description**\n",
        "Given an array A of N integers. Count the number of elements that have at least 1 elements greater than itself.\n",
        "\n",
        "\n",
        "Problem Constraints\n",
        "1 <= N <= 105\n",
        "1 <= A[i] <= 109\n",
        "\n",
        "\n",
        "Input Format\n",
        "First and only argument is an array of integers A.\n",
        "\n",
        "\n",
        "Output Format\n",
        "Return the count of elements.\n",
        "\n",
        "\n",
        "**Example Input**\n",
        "\n",
        "Input 1:\n",
        "A = [3, 1, 2]\n",
        "\n",
        "Input 2:\n",
        "A = [5, 5, 3]\n",
        "\n",
        "\n",
        "Example Output\n",
        "\n",
        "Output 1:\n",
        "2\n",
        "\n",
        "Output 2:\n",
        "1"
      ],
      "metadata": {
        "id": "ZsON5oHVty-B"
      }
    },
    {
      "cell_type": "code",
      "source": [
        "def ElementCount(A):\n",
        "        count = 0\n",
        "        maxx = max(A)\n",
        "        for i in range(len(A)):\n",
        "            if maxx == A[i]:\n",
        "                count += 1\n",
        "        return (len(A)-count)"
      ],
      "metadata": {
        "id": "2QQehGx8t9VU"
      },
      "execution_count": null,
      "outputs": []
    },
    {
      "cell_type": "code",
      "source": [
        "A = [1,2,3,4,5]\n",
        "ElementCount(A)"
      ],
      "metadata": {
        "colab": {
          "base_uri": "https://localhost:8080/"
        },
        "id": "I60ei_rCuQqW",
        "outputId": "c80da050-d3e9-41ac-c9c8-e1614ef46e8a"
      },
      "execution_count": null,
      "outputs": [
        {
          "output_type": "execute_result",
          "data": {
            "text/plain": [
              "4"
            ]
          },
          "metadata": {},
          "execution_count": 2
        }
      ]
    },
    {
      "cell_type": "markdown",
      "source": [
        "**2. Reverse in range**\n",
        "\n",
        "**Problem Description**\n",
        "Given an array A of N integers. Also given are two integers B and C. Reverse the array A in the given range [B, C]\n",
        "\n",
        "\n",
        "Problem Constraints\n",
        "1 <= N <= 105\n",
        "1 <= A[i] <= 109\n",
        "0 <= B <= C <= N - 1\n",
        "\n",
        "\n",
        "Input Format\n",
        "The first argument A is an array of integer.\n",
        "The second and third arguments are integers B and C\n",
        "\n",
        "\n",
        "Output Format\n",
        "Return the array A after reversing in the given range.\n",
        "\n",
        "\n",
        "**Example Input**\n",
        "Input 1:\n",
        "\n",
        "A = [1, 2, 3, 4]\n",
        "B = 2\n",
        "C = 3\n",
        "\n",
        "Input 2:\n",
        "\n",
        "A = [2, 5, 6]\n",
        "B = 0\n",
        "C = 2\n",
        "\n",
        "\n",
        "**Example Output**\n",
        "\n",
        "Output 1:\n",
        "[1, 2, 4, 3]\n",
        "\n",
        "Output 2:\n",
        "[6, 5, 2]"
      ],
      "metadata": {
        "id": "05FR6i9SulZO"
      }
    },
    {
      "cell_type": "code",
      "source": [
        "def RangeReverse(A, B, C):\n",
        "        temp = 0\n",
        "        while (B < C):\n",
        "            A[B] = A[B] + A[C]\n",
        "            A[C] = A[B] - A[C]\n",
        "            A[B] = A[B] - A[C]\n",
        "            B += 1\n",
        "            C -= 1\n",
        "        return A"
      ],
      "metadata": {
        "id": "CYORVZfBuUpy"
      },
      "execution_count": null,
      "outputs": []
    },
    {
      "cell_type": "code",
      "source": [
        "A = [1, 2, 3, 4] \n",
        "B = 2 \n",
        "C = 3\n",
        "RangeReverse(A,B,C)"
      ],
      "metadata": {
        "colab": {
          "base_uri": "https://localhost:8080/"
        },
        "id": "oy29Ryhru3OK",
        "outputId": "3856e41b-f0fc-47a2-f3c2-54ea686f68e8"
      },
      "execution_count": null,
      "outputs": [
        {
          "output_type": "execute_result",
          "data": {
            "text/plain": [
              "[1, 2, 4, 3]"
            ]
          },
          "metadata": {},
          "execution_count": 4
        }
      ]
    },
    {
      "cell_type": "markdown",
      "source": [
        "**3. Reverse the Array**\n",
        "\n",
        "Problem Description\n",
        "You are given a constant array A.\n",
        "\n",
        "You are required to return another array which is the reversed form of the input array.\n",
        "\n",
        "\n",
        "Problem Constraints\n",
        "1 <= A.size() <= 10000\n",
        "\n",
        "1 <= A[i] <= 10000\n",
        "\n",
        "\n",
        "\n",
        "Input Format\n",
        "First argument is a constant array A.\n",
        "\n",
        "\n",
        "\n",
        "Output Format\n",
        "Return an integer array.\n",
        "\n",
        "\n",
        "\n",
        "**Example Input**\n",
        "\n",
        "Input 1:\n",
        "A = [1,2,3,2,1]\n",
        "\n",
        "Input 2:\n",
        "A = [1,1,10]\n",
        "\n",
        "\n",
        "**Example Output**\n",
        "\n",
        "Output 1:\n",
        " [1,2,3,2,1] \n",
        "\n",
        "Output 2:\n",
        " [10,1,1] "
      ],
      "metadata": {
        "id": "VHTNO_g6vMVm"
      }
    },
    {
      "cell_type": "code",
      "source": [
        "def ReverseArray(A):\n",
        "        B = list(A)\n",
        "        i = 0\n",
        "        j = len(B)-1\n",
        "        temp = 0\n",
        "        while i < j:\n",
        "            temp = B[i]\n",
        "            B[i] = B[j]\n",
        "            B[j] = temp\n",
        "            i += 1\n",
        "            j -= 1\n",
        "\n",
        "        return B"
      ],
      "metadata": {
        "id": "Hw5ydzyYvCRl"
      },
      "execution_count": null,
      "outputs": []
    },
    {
      "cell_type": "code",
      "source": [
        "Q = [1,2,3,4,5,6,100,7,8,9,10]\n",
        "ReverseArray(Q)"
      ],
      "metadata": {
        "colab": {
          "base_uri": "https://localhost:8080/"
        },
        "id": "pE3gIKX9vdXT",
        "outputId": "e4255eff-6d16-47a5-acce-58013e05e55e"
      },
      "execution_count": null,
      "outputs": [
        {
          "output_type": "execute_result",
          "data": {
            "text/plain": [
              "[10, 9, 8, 7, 100, 6, 5, 4, 3, 2, 1]"
            ]
          },
          "metadata": {},
          "execution_count": 7
        }
      ]
    },
    {
      "cell_type": "markdown",
      "source": [
        "**4. Array Rotation**\n",
        "\n",
        "Problem Description\n",
        "Given an integer array A of size N and an integer B, you have to return the same array after rotating it B times towards the right.\n",
        "\n",
        "\n",
        "Problem Constraints\n",
        "1 <= N <= 105\n",
        "1 <= A[i] <=109\n",
        "1 <= B <= 109\n",
        "\n",
        "\n",
        "Input Format\n",
        "The first argument given is the integer array A.\n",
        "The second argument given is the integer B.\n",
        "\n",
        "\n",
        "Output Format\n",
        "Return the array A after rotating it B times to the right\n",
        "\n",
        "\n",
        "**Example Input**\n",
        "\n",
        "Input 1:\n",
        "A = [1, 2, 3, 4]\n",
        "B = 2\n",
        "\n",
        "Input 2:\n",
        "A = [2, 5, 6]\n",
        "B = 1\n",
        "\n",
        "\n",
        "**Example Output**\n",
        "\n",
        "Output 1:\n",
        "[3, 4, 1, 2]\n",
        "\n",
        "Output 2:\n",
        "[6, 2, 5]"
      ],
      "metadata": {
        "id": "J2Lh2N3vvzui"
      }
    },
    {
      "cell_type": "code",
      "source": [
        "def ArrayRotation(A, B):\n",
        "        temp = [0]*len(A)\n",
        "        k = len(A)\n",
        "        j = 0\n",
        "        for i in range(len(A)):\n",
        "            j = (i+B) % k \n",
        "            temp[j] = A[i] \n",
        "        \n",
        "        return temp"
      ],
      "metadata": {
        "id": "G28FyoB8vl2O"
      },
      "execution_count": null,
      "outputs": []
    },
    {
      "cell_type": "code",
      "source": [
        "A = [1, 2, 3, 4] \n",
        "B = 2\n",
        "ArrayRotation(A, B)"
      ],
      "metadata": {
        "colab": {
          "base_uri": "https://localhost:8080/"
        },
        "id": "lCfGgU-6wDqv",
        "outputId": "4cf6f68d-5bd1-45af-d359-6393695ac2ef"
      },
      "execution_count": null,
      "outputs": [
        {
          "output_type": "execute_result",
          "data": {
            "text/plain": [
              "[3, 4, 1, 2]"
            ]
          },
          "metadata": {},
          "execution_count": 9
        }
      ]
    },
    {
      "cell_type": "markdown",
      "source": [
        "**5. Second Largest**\n",
        "\n",
        "**Problem Description**\n",
        "You are given an integer array A. You have to find the second largest element/value in the array or report that no such element exists.\n",
        "\n",
        "\n",
        "Problem Constraints\n",
        "1 <= |A| <= 105\n",
        "\n",
        "0 <= A[i] <= 109\n",
        "\n",
        "\n",
        "\n",
        "Input Format\n",
        "The first argument is an integer array A.\n",
        "\n",
        "\n",
        "\n",
        "Output Format\n",
        "Return the second largest element. If no such element exist then return -1.\n",
        "\n",
        "\n",
        "\n",
        "**Example Input**\n",
        "\n",
        "Input 1:\n",
        " A = [2, 1, 2] \n",
        "\n",
        "Input 2:\n",
        " A = [2]\n",
        "\n",
        "\n",
        "**Example Output**\n",
        "\n",
        "Output 1:\n",
        " 1 \n",
        "\n",
        "Output 2:\n",
        " -1 "
      ],
      "metadata": {
        "id": "BKwt4lYtwYsv"
      }
    },
    {
      "cell_type": "code",
      "source": [
        "def SecondLargest(A):\n",
        "        maxx = A[0]\n",
        "        if (len(A) < 2):\n",
        "            return -1\n",
        "        else:\n",
        "            for i in range(1,len(A)):\n",
        "                if A[i] > maxx:\n",
        "                    maxx = A[i]\n",
        "            \n",
        "            sec_max = -1\n",
        "            for j in range(len(A)):\n",
        "                    if A[j] > sec_max and A[j] < maxx:\n",
        "                        sec_max = A[j]\n",
        "        return sec_max"
      ],
      "metadata": {
        "id": "b3HYOJFuwL8O"
      },
      "execution_count": null,
      "outputs": []
    },
    {
      "cell_type": "code",
      "source": [
        "A = [10,9,8,7,6,5,4,3,2,1]\n",
        "SecondLargest(A)"
      ],
      "metadata": {
        "colab": {
          "base_uri": "https://localhost:8080/"
        },
        "id": "y-bHksXiwqKV",
        "outputId": "671a699a-ff7d-4e38-ff9a-6681c5a9a261"
      },
      "execution_count": null,
      "outputs": [
        {
          "output_type": "execute_result",
          "data": {
            "text/plain": [
              "9"
            ]
          },
          "metadata": {},
          "execution_count": 11
        }
      ]
    },
    {
      "cell_type": "markdown",
      "source": [
        "**6. Range Sum Quary II**\n",
        "\n",
        "**Problem Description**\n",
        "You are given an integer array A of length N.\n",
        "You are also given a 2D integer array B with dimensions M x 2, where each row denotes a [L, R] query.\n",
        "For each query, you have to find the sum of all elements from L to R indices in A (0 - indexed).\n",
        "More formally, find A[L] + A[L + 1] + A[L + 2] +... + A[R - 1] + A[R] for each query.\n",
        "\n",
        "\n",
        "\n",
        "Problem Constraints\n",
        "1 <= N, M <= 103\n",
        "1 <= A[i] <= 105\n",
        "0 <= L <= R < N\n",
        "\n",
        "\n",
        "Input Format\n",
        "The first argument is the integer array A.\n",
        "The second argument is the 2D integer array B.\n",
        "\n",
        "\n",
        "Output Format\n",
        "Return an integer array of length M where ith element is the answer for ith query in B.\n",
        "\n",
        "\n",
        "**Example Input**\n",
        "\n",
        "Input 1:\n",
        "A = [1, 2, 3, 4, 5]\n",
        "  B = [[0, 3], [1, 2]]\n",
        "\n",
        "Input 2:\n",
        "A = [2, 2, 2]\n",
        "  B = [[0, 0], [1, 2]]\n",
        "\n",
        "\n",
        "Example Output\n",
        "\n",
        "Output 1:\n",
        "[10, 5]\n",
        "\n",
        "  Output 2:\n",
        "[2, 4]"
      ],
      "metadata": {
        "id": "Fy4YP1Mew0UV"
      }
    },
    {
      "cell_type": "code",
      "source": [
        " def RangeSum2(A, B):\n",
        "        C = []\n",
        "        for i in range(len(B)):\n",
        "            start = B[i][0]\n",
        "            end = B[i][1]\n",
        "            summ = 0\n",
        "            # for j in range(start-1,end):\n",
        "            summ += sum(A[start-1:end])\n",
        "            C.append(summ)\n",
        "        return C"
      ],
      "metadata": {
        "id": "MXyvvYNpwupz"
      },
      "execution_count": null,
      "outputs": []
    },
    {
      "cell_type": "code",
      "source": [
        "A = [1, 2, 3, 4, 5] \n",
        "B = [[0, 3], [1, 2]]\n",
        "RangeSum2(A,B)"
      ],
      "metadata": {
        "colab": {
          "base_uri": "https://localhost:8080/"
        },
        "id": "PTjS6_74xKlZ",
        "outputId": "28ed8dfd-9d24-4d7f-f632-e0771137a12a"
      },
      "execution_count": null,
      "outputs": [
        {
          "output_type": "execute_result",
          "data": {
            "text/plain": [
              "[0, 3]"
            ]
          },
          "metadata": {},
          "execution_count": 15
        }
      ]
    },
    {
      "cell_type": "markdown",
      "source": [
        "**Prefix Sum Formula**\n",
        "\n",
        "prefSum[i] = prefSum[i - 1] + A[i]\n"
      ],
      "metadata": {
        "id": "dAJyeDWIxjRZ"
      }
    },
    {
      "cell_type": "markdown",
      "source": [
        "**7. Range Sum Query**\n",
        "\n",
        "**Problem Description**\n",
        "You are given an integer array A of length N.\n",
        "You are also given a 2D integer array B with dimensions M x 2, where each row denotes a [L, R] query.\n",
        "For each query, you have to find the sum of all elements from L to R indices in A (0 - indexed).\n",
        "More formally, find A[L] + A[L + 1] + A[L + 2] +... + A[R - 1] + A[R] for each query.\n",
        "\n",
        "\n",
        "\n",
        "Problem Constraints\n",
        "1 <= N, M <= 105\n",
        "1 <= A[i] <= 109\n",
        "0 <= L <= R < N\n",
        "\n",
        "\n",
        "Input Format\n",
        "The first argument is the integer array A.\n",
        "The second argument is the 2D integer array B.\n",
        "\n",
        "\n",
        "Output Format\n",
        "Return an integer array of length M where ith element is the answer for ith query in B.\n",
        "\n",
        "\n",
        "**Example Input**\n",
        "\n",
        "Input 1:\n",
        "A = [1, 2, 3, 4, 5]\n",
        "  B = [[0, 3], [1, 2]]\n",
        "\n",
        "Input 2:\n",
        "A = [2, 2, 2]\n",
        "  B = [[0, 0], [1, 2]]\n",
        "\n",
        "\n",
        "**Example Output**\n",
        "\n",
        "Output 1:\n",
        "[10, 5]\n",
        "\n",
        "Output 2:\n",
        "[2, 4]"
      ],
      "metadata": {
        "id": "U57Z-DLmx0GG"
      }
    },
    {
      "cell_type": "code",
      "source": [
        "def RangeSum(A, B):\n",
        "        ps = [0]*len(A)\n",
        "        ps[0] = A[0]\n",
        "\n",
        "        for i in range(1,len(A)):\n",
        "            ps[i] = ps[i-1] + A[i]\n",
        "        \n",
        "\n",
        "        summ = [0]*len(B)\n",
        "        for j in range(len(B)):\n",
        "            if B[j][0] == 0:\n",
        "                summ[j] = ps[B[j][1]]\n",
        "            else:\n",
        "                summ[j] = ps[B[j][1]] - ps[B[j][0]-1]\n",
        "        return summ"
      ],
      "metadata": {
        "id": "W3_BdEqPxPR6"
      },
      "execution_count": null,
      "outputs": []
    },
    {
      "cell_type": "code",
      "source": [
        "A = [1, 2, 3, 4, 5]\n",
        "B = [[0, 3], [1, 2]]\n",
        "RangeSum(A,B)"
      ],
      "metadata": {
        "colab": {
          "base_uri": "https://localhost:8080/"
        },
        "id": "Ku0Q2qcSyT0s",
        "outputId": "d6661d31-7f91-45fa-ff3b-c88c49328a65"
      },
      "execution_count": null,
      "outputs": [
        {
          "output_type": "execute_result",
          "data": {
            "text/plain": [
              "[10, 5]"
            ]
          },
          "metadata": {},
          "execution_count": 17
        }
      ]
    },
    {
      "cell_type": "markdown",
      "source": [
        "**8. Equilibrium Index of Array**\n",
        "\n",
        "**Problem Description**\n",
        "You are given an array A of integers of size N.\n",
        "\n",
        "Your task is to find the equilibrium index of the given array\n",
        "\n",
        "The equilibrium index of an array is an index such that the sum of elements at lower indexes is equal to the sum of elements at higher indexes.\n",
        "\n",
        "NOTE:\n",
        "\n",
        "Array indexing starts from 0.\n",
        "If there is no equilibrium index then return -1.\n",
        "If there are more than one equilibrium indexes then return the minimum index.\n",
        "\n",
        "\n",
        "\n",
        "Problem Constraints\n",
        "1 <= N <= 105\n",
        "-105 <= A[i] <= 105\n",
        "\n",
        "\n",
        "Input Format\n",
        "First arugment is an array A .\n",
        "\n",
        "\n",
        "Output Format\n",
        "Return the equilibrium index of the given array. If no such index is found then return -1.\n",
        "\n",
        "\n",
        "**Example Input**\n",
        "\n",
        "Input 1:\n",
        "A=[-7, 1, 5, 2, -4, 3, 0]\n",
        "\n",
        "Input 2:\n",
        "A=[1,2,3]\n",
        "\n",
        "\n",
        "Example Output\n",
        "\n",
        "Output 1:\n",
        "3\n",
        "\n",
        "Output 2:\n",
        "-1"
      ],
      "metadata": {
        "id": "NjBVOWrRygED"
      }
    },
    {
      "cell_type": "code",
      "source": [
        "def EquiIndex(A):\n",
        "        ps = [0]*len(A)\n",
        "        ps[0] = A[0]\n",
        "        for i in range(1,len(A)):\n",
        "            ps[i] = ps[i-1] + A[i]\n",
        "        \n",
        "        left, right, index = 0,0,0\n",
        "        Equi = False\n",
        "        \n",
        "        for j in range(len(A)):\n",
        "            if j == 0:\n",
        "                left = 0\n",
        "            else:\n",
        "                left = ps[j-1]\n",
        "            \n",
        "            if j == len(A)-1:\n",
        "                right = 0\n",
        "            else:\n",
        "                right = ps[len(A)-1] - ps[j]\n",
        "            \n",
        "            if left == right:\n",
        "                index = j\n",
        "                Equi = True\n",
        "                        \n",
        "        if not Equi:\n",
        "            return -1\n",
        "        else:\n",
        "            return index"
      ],
      "metadata": {
        "id": "eHdFdvFKyXnq"
      },
      "execution_count": null,
      "outputs": []
    },
    {
      "cell_type": "code",
      "source": [
        "p = [0,2,1,2,3]\n",
        "EquiIndex(p)"
      ],
      "metadata": {
        "colab": {
          "base_uri": "https://localhost:8080/"
        },
        "id": "MC9G8Vary4Nk",
        "outputId": "4208581d-de3f-42bd-c583-b79c4fd351f6"
      },
      "execution_count": null,
      "outputs": [
        {
          "output_type": "execute_result",
          "data": {
            "text/plain": [
              "3"
            ]
          },
          "metadata": {},
          "execution_count": 35
        }
      ]
    },
    {
      "cell_type": "markdown",
      "source": [
        "**9. Even Numbers in Range**\n",
        "\n",
        "**Problem Description**\n",
        "You are given an array A of length N and Q queries given by the 2D array B of size Q*2. Each query consists of two integers B[i][0] and B[i][1].\n",
        "For every query, the task is to find the count of even numbers in the range A[B[i][0]…B[i][1]].\n",
        "\n",
        "\n",
        "Problem Constraints\n",
        "1 <= N <= 105\n",
        "1 <= Q <= 105\n",
        "1 <= A[i] <= 109\n",
        "0 <= B[i][0] <= B[i][1] < N\n",
        "\n",
        "\n",
        "Input Format\n",
        "First argument A is an array of integers.\n",
        "Second argument B is a 2D array of integers.\n",
        "\n",
        "\n",
        "Output Format\n",
        "Return an array of integers.\n",
        "\n",
        "\n",
        "**Example Input**\n",
        "\n",
        "Input 1:\n",
        "A = [1, 2, 3, 4, 5]\n",
        "B = [   [0,2] \n",
        "        [1,4]   ]\n",
        "\n",
        "Input 2:\n",
        "A = [2, 1, 8, 3, 9]\n",
        "B = [   [0,3] \n",
        "        [2,4]   ]\n",
        "\n",
        "\n",
        "**Example Output**\n",
        "\n",
        "Output 1:\n",
        "[1, 2]\n",
        "\n",
        "Output 2:\n",
        "[2, 1]\n"
      ],
      "metadata": {
        "id": "ZAPjK9Ns3dAg"
      }
    },
    {
      "cell_type": "code",
      "source": [
        "def EveninRange(A, B):\n",
        "        ps = [0]*len(A)\n",
        "        ps [0] = A[0]%2\n",
        "        if len(A) > 1:\n",
        "            for i in range(len(A)):\n",
        "               ps[i] = ps[i-1] + A[i]%2\n",
        "        \n",
        "        even = [0]*len(B)\n",
        "        odd = 0\n",
        "        for j in range(len(B)):\n",
        "            if B[j][0] == 0:\n",
        "                odd = ps[B[j][1]]\n",
        "                even[j] = (B[j][1]-B[j][0]+1)-odd\n",
        "            else:\n",
        "                odd = ps[B[j][1]] - ps[B[j][0]-1]\n",
        "                even[j] = (B[j][1]-B[j][0]+1)-odd\n",
        "        \n",
        "        return even"
      ],
      "metadata": {
        "id": "GZKxGeBvy78C"
      },
      "execution_count": null,
      "outputs": []
    },
    {
      "cell_type": "code",
      "source": [
        "A = [1, 2, 3, 4, 5] \n",
        "B = [ [0,2],[1,4] ]\n",
        "EveninRange(A,B)"
      ],
      "metadata": {
        "colab": {
          "base_uri": "https://localhost:8080/"
        },
        "id": "SC_iKQ363tSu",
        "outputId": "0079d3d9-9d56-4f5f-d0fd-ee974f40d29b"
      },
      "execution_count": null,
      "outputs": [
        {
          "output_type": "execute_result",
          "data": {
            "text/plain": [
              "[1, 2]"
            ]
          },
          "metadata": {},
          "execution_count": 38
        }
      ]
    },
    {
      "cell_type": "markdown",
      "source": [
        "**10. Special Subsequence \"AG\"**\n",
        "\n",
        "**Problem Description**\n",
        "You have given a string A having Uppercase English letters.\n",
        "\n",
        "You have to find how many times subsequence \"AG\" is there in the given string.\n",
        "\n",
        "NOTE: Return the answer modulo 109 + 7 as the answer can be very large.\n",
        "\n",
        "\n",
        "\n",
        "Problem Constraints\n",
        "1 <= length(A) <= 105\n",
        "\n",
        "\n",
        "\n",
        "Input Format\n",
        "First and only argument is a string A.\n",
        "\n",
        "Output Format\n",
        "Return an integer denoting the answer.\n",
        "\n",
        "**Example Input**\n",
        "Input 1:\n",
        "\n",
        " A = \"ABCGAG\"\n",
        "\n",
        "**Input 2:**\n",
        "\n",
        " A = \"GAB\"\n",
        "\n",
        "\n",
        "**Example Output**\n",
        "\n",
        "Output 1:\n",
        " 3\n",
        "\n",
        "Output 2:\n",
        " 0"
      ],
      "metadata": {
        "id": "Xotnfkz74TQg"
      }
    },
    {
      "cell_type": "code",
      "source": [
        "def SubSequence(A):\n",
        "        count, ans = 0,0\n",
        "        for i in A[::-1]:\n",
        "            if i == 'G':\n",
        "                count += 1\n",
        "            elif i == 'A':\n",
        "                ans += count\n",
        "        return ans%(10**9 + 7)"
      ],
      "metadata": {
        "id": "HJ2ymJhT303U"
      },
      "execution_count": null,
      "outputs": []
    },
    {
      "cell_type": "code",
      "source": [
        "A = \"ABCGAG\"\n",
        "SubSequence(A)"
      ],
      "metadata": {
        "colab": {
          "base_uri": "https://localhost:8080/"
        },
        "id": "X9OqYYp64lKg",
        "outputId": "44090da4-afdd-483e-f3d5-45ae29d2ccce"
      },
      "execution_count": null,
      "outputs": [
        {
          "output_type": "execute_result",
          "data": {
            "text/plain": [
              "3"
            ]
          },
          "metadata": {},
          "execution_count": 40
        }
      ]
    },
    {
      "cell_type": "markdown",
      "source": [
        "**11. Leaders in array**\n",
        "\n",
        "**Problem Description**\n",
        "\n",
        "Given an integer array A containing N distinct integers, you have to find all the leaders in array A.\n",
        "\n",
        "An element is a leader if it is strictly greater than all the elements to its right side.\n",
        "\n",
        "NOTE:The rightmost element is always a leader.\n",
        "\n",
        "\n",
        "\n",
        "Problem Constraints\n",
        "\n",
        "1 <= N <= 105\n",
        "\n",
        "1 <= A[i] <= 108\n",
        "\n",
        "\n",
        "\n",
        "Input Format\n",
        "\n",
        "First and only argument is an integer array A.\n",
        "\n",
        "\n",
        "\n",
        "Output Format\n",
        "\n",
        "Return an integer array denoting all the leader elements of the array.\n",
        "\n",
        "NOTE: Ordering in the output doesn't matter.\n",
        "\n",
        "\n",
        "**Example Input**\n",
        "\n",
        "Input 1:\n",
        " A = [16, 17, 4, 3, 5, 2]\n",
        "\n",
        "Input 2:\n",
        " A = [1, 2]\n",
        "\n",
        "\n",
        "**Example Output**\n",
        "\n",
        "Output 1:\n",
        " [17, 2, 5]\n",
        "\n",
        "Output 2:\n",
        " [2]"
      ],
      "metadata": {
        "id": "ptcDg-di4ybj"
      }
    },
    {
      "cell_type": "code",
      "source": [
        "def LeadersinArray(A):\n",
        "        leaderarray = []\n",
        "        leader = A[len(A)-1]\n",
        "        leaderarray.append(leader)\n",
        "        for i in range(len(A)-2,0,-1):\n",
        "            if A[i] > leader:\n",
        "                leader = A[i]\n",
        "                leaderarray.append(leader)\n",
        "        return leaderarray"
      ],
      "metadata": {
        "id": "XVhMSQBF4qmi"
      },
      "execution_count": null,
      "outputs": []
    },
    {
      "cell_type": "code",
      "source": [
        " A = [16, 17, 4, 3, 5, 2]\n",
        " LeadersinArray(A)"
      ],
      "metadata": {
        "colab": {
          "base_uri": "https://localhost:8080/"
        },
        "id": "rXJ8d6AT5DyV",
        "outputId": "d9fc3abd-c6e2-48b9-9058-b9e39f4f0234"
      },
      "execution_count": null,
      "outputs": [
        {
          "output_type": "execute_result",
          "data": {
            "text/plain": [
              "[2, 5, 17]"
            ]
          },
          "metadata": {},
          "execution_count": 42
        }
      ]
    },
    {
      "cell_type": "markdown",
      "source": [
        "**12. Closest MinMax**\n",
        "\n",
        "**Problem Description**\n",
        "Given an array A, find the size of the smallest subarray such that it contains at least one occurrence of the maximum value of the array and at least one occurrence of the minimum value of the array.\n",
        "\n",
        "\n",
        "Problem Constraints\n",
        "1 <= |A| <= 2000\n",
        "\n",
        "\n",
        "Input Format\n",
        "First and only argument is vector A\n",
        "\n",
        "\n",
        "\n",
        "Output Format\n",
        "Return the length of the smallest subarray which has at least one occurrence of minimum and maximum element of the array\n",
        "\n",
        "**Example Input**\n",
        "\n",
        "Input 1:\n",
        "  A = [1, 3]\n",
        "\n",
        "Input 2:\n",
        "  A = [2]\n",
        "\n",
        "\n",
        "**Example Output**\n",
        "\n",
        "Output 1:\n",
        " 2\n",
        "\n",
        "Output 2:\n",
        " 1\n"
      ],
      "metadata": {
        "id": "JBor79wy5O_w"
      }
    },
    {
      "cell_type": "code",
      "source": [
        " def ClosestMinMax(A):\n",
        "        size = len(A)\n",
        "        minn = min(A)\n",
        "        maxx = max(A)\n",
        "\n",
        "        mini, maxi = -1,-1\n",
        "        if minn == maxx:\n",
        "            return size\n",
        "        \n",
        "        for i in range(len(A)-1,-1,-1):\n",
        "            if A[i] == minn:\n",
        "                mini = i\n",
        "                if maxi != -1:\n",
        "                    size = min(size,maxi-mini+1)\n",
        "            if A[i] == maxx:\n",
        "                maxi = i\n",
        "                if mini != -1:\n",
        "                    size = mini-maxi+1\n",
        "        return size\n",
        "            "
      ],
      "metadata": {
        "id": "KF6NisUt5G1h"
      },
      "execution_count": null,
      "outputs": []
    },
    {
      "cell_type": "code",
      "source": [
        "A = [1,0,2,4]\n",
        "ClosestMinMax(A)"
      ],
      "metadata": {
        "colab": {
          "base_uri": "https://localhost:8080/"
        },
        "id": "l_9SF52A5gIt",
        "outputId": "b40b4bb6-20f3-4887-d67f-8c6ea0a0febd"
      },
      "execution_count": null,
      "outputs": [
        {
          "output_type": "execute_result",
          "data": {
            "text/plain": [
              "3"
            ]
          },
          "metadata": {},
          "execution_count": 49
        }
      ]
    },
    {
      "cell_type": "markdown",
      "source": [
        "**13. Best time to buy and sell stocks**\n",
        "\n",
        "**Problem Description**\n",
        "Say you have an array, A, for which the ith element is the price of a given stock on day i.\n",
        "If you were only permitted to complete at most one transaction (ie, buy one and sell one share of the stock), design an algorithm to find the maximum profit.\n",
        "\n",
        "Return the maximum possible profit.\n",
        "\n",
        "\n",
        "\n",
        "Problem Constraints\n",
        "0 <= len(A) <= 7e5\n",
        "1 <= A[i] <= 1e7\n",
        "\n",
        "\n",
        "\n",
        "Input Format\n",
        "The first and the only argument is an array of integers, A.\n",
        "\n",
        "\n",
        "Output Format\n",
        "Return an integer, representing the maximum possible profit.\n",
        "\n",
        "\n",
        "**Example Input**\n",
        "\n",
        "Input 1:\n",
        "  A = [1, 2]\n",
        "\n",
        "Input 2:\n",
        "  A = [1, 4, 5, 2, 4]\n",
        "\n",
        "\n",
        "Example Output\n",
        "\n",
        "Output 1:\n",
        "  1\n",
        "  \n",
        "Output 2:\n",
        "  4\n"
      ],
      "metadata": {
        "id": "JJbtIASK6vRA"
      }
    },
    {
      "cell_type": "code",
      "source": [
        "def maxProfit(A):\n",
        "       profit = 0\n",
        "       if len(A) <= 1:\n",
        "           return profit\n",
        "      \n",
        "       buy = A[0]\n",
        "       for i in range(1,len(A)):\n",
        "            if buy > A[i]:\n",
        "                buy = A[i]\n",
        "            elif A[i] - buy > profit:\n",
        "                profit = A[i] - buy\n",
        "       return profit "
      ],
      "metadata": {
        "id": "xymvm1Dw6GM7"
      },
      "execution_count": null,
      "outputs": []
    },
    {
      "cell_type": "code",
      "source": [
        "A = [1, 4, 5, 2, 4]\n",
        "maxProfit(A)"
      ],
      "metadata": {
        "colab": {
          "base_uri": "https://localhost:8080/"
        },
        "id": "mzTfV0G07DqL",
        "outputId": "60ff6ad2-4796-4996-f5e4-7a5a52239390"
      },
      "execution_count": null,
      "outputs": [
        {
          "output_type": "execute_result",
          "data": {
            "text/plain": [
              "4"
            ]
          },
          "metadata": {},
          "execution_count": 51
        }
      ]
    },
    {
      "cell_type": "markdown",
      "source": [
        "**14. Amazing subarrays**\n",
        "\n",
        "You are given a string S, and you have to find all the amazing substrings of S.\n",
        "\n",
        "An amazing Substring is one that starts with a vowel (a, e, i, o, u, A, E, I, O, U).\n",
        "\n",
        "Input\n",
        "\n",
        "Only argument given is string S.\n",
        "Output\n",
        "\n",
        "Return a single integer X mod 10003, here X is the number of Amazing Substrings in given the string.\n",
        "Constraints\n",
        "\n",
        "1 <= length(S) <= 1e6\n",
        "S can have special characters\n",
        "Example\n",
        "\n",
        "**Input**\n",
        "    ABEC\n",
        "\n",
        "**Output**\n",
        "    6\n",
        "\n",
        "Explanation\n",
        "\n",
        "Amazing substrings of given string are :\n",
        "    1. A\n",
        "    2. AB\n",
        "    3. ABE\n",
        "    4. ABEC\n",
        "    5. E\n",
        "    6. EC\n",
        "  \n",
        "here number of substrings are 6 and 6 % 10003 = 6."
      ],
      "metadata": {
        "id": "V3LFkb5k73v7"
      }
    },
    {
      "cell_type": "code",
      "source": [
        "def SubArray(A):\n",
        "        count = 0\n",
        "        upprA = A.upper()\n",
        "        for i in range(len(upprA)):\n",
        "            if upprA[i] in ('A','E','I','O','U'):\n",
        "                count += (len(upprA)-1)-i+1   \n",
        "        return (count)%10003"
      ],
      "metadata": {
        "id": "5cQTOA0L7I8W"
      },
      "execution_count": null,
      "outputs": []
    },
    {
      "cell_type": "code",
      "source": [
        "A = \"ABEC\"\n",
        "SubArray(A)"
      ],
      "metadata": {
        "colab": {
          "base_uri": "https://localhost:8080/"
        },
        "id": "AST6wz778NIn",
        "outputId": "26c4e0b1-9982-402a-d981-35b466b3c97c"
      },
      "execution_count": null,
      "outputs": [
        {
          "output_type": "execute_result",
          "data": {
            "text/plain": [
              "6"
            ]
          },
          "metadata": {},
          "execution_count": 53
        }
      ]
    },
    {
      "cell_type": "markdown",
      "source": [
        "**15. Bulbs**\n",
        "\n",
        "**Problem Description**\n",
        "A wire connects N light bulbs.\n",
        "\n",
        "Each bulb has a switch associated with it; however, due to faulty wiring, a switch also changes the state of all the bulbs to the right of the current bulb.\n",
        "\n",
        "Given an initial state of all bulbs, find the minimum number of switches you have to press to turn on all the bulbs.\n",
        "\n",
        "You can press the same switch multiple times.\n",
        "\n",
        "Note: 0 represents the bulb is off and 1 represents the bulb is on.\n",
        "\n",
        "\n",
        "\n",
        "Problem Constraints\n",
        "0 <= N <= 5×105\n",
        "0 <= A[i] <= 1\n",
        "\n",
        "\n",
        "\n",
        "Input Format\n",
        "The first and the only argument contains an integer array A, of size N.\n",
        "\n",
        "\n",
        "\n",
        "Output Format\n",
        "Return an integer representing the minimum number of switches required.\n",
        "\n",
        "\n",
        "**Example Input**\n",
        "\n",
        "Input 1:\n",
        " A = [0, 1, 0, 1]\n",
        "\n",
        "Input 2:\n",
        " A = [1, 1, 1, 1]\n",
        "\n",
        "\n",
        "**Example Output**\n",
        "\n",
        "Output 1:\n",
        " 4\n",
        "\n",
        "Output 2:\n",
        " 0"
      ],
      "metadata": {
        "id": "FcCh3s6z8Zk8"
      }
    },
    {
      "cell_type": "code",
      "source": [
        "def bulbs(A):\n",
        "\t\tcount = 0\n",
        "\t\tfor i in range(len(A)):\n",
        "\t\t\tif A[i] == 1 and count%2 == 0:\n",
        "\t\t\t\tcontinue\n",
        "\t\t\telif A[i] == 1 and count%2 != 0:\n",
        "\t\t\t\tcount += 1\n",
        "\t\t\telif A[i] == 0 and count%2 == 0:\n",
        "\t\t\t\tcount += 1\n",
        "\t\t\telse:\n",
        "\t\t\t\tcontinue\n",
        "\t\treturn count "
      ],
      "metadata": {
        "id": "WyC-kSPr8RIC"
      },
      "execution_count": null,
      "outputs": []
    },
    {
      "cell_type": "code",
      "source": [
        " A = [0, 1, 0, 1]\n",
        " bulbs(A)"
      ],
      "metadata": {
        "colab": {
          "base_uri": "https://localhost:8080/"
        },
        "id": "kGf1Z7_-8nk3",
        "outputId": "a6c1d525-2263-480d-c2a4-f3560ee6f220"
      },
      "execution_count": null,
      "outputs": [
        {
          "output_type": "execute_result",
          "data": {
            "text/plain": [
              "4"
            ]
          },
          "metadata": {},
          "execution_count": 56
        }
      ]
    },
    {
      "cell_type": "code",
      "source": [
        "# bulb scaler logic\n",
        "def bulb1(A):\n",
        "  count = 0\n",
        "  for i in range(len(A)):\n",
        "    if count%2 == 0:    # original situation where all bulbs are in \n",
        "      if A[i] == 0:         # curr bulb is off\n",
        "        count += 1\n",
        "    else:\n",
        "      if A[i] == 1:       # when bulb status was changed so 1 made 0 so making it on again \n",
        "        count += 1\n",
        "  return count"
      ],
      "metadata": {
        "id": "eOg2bIFqmGhI"
      },
      "execution_count": 1,
      "outputs": []
    },
    {
      "cell_type": "code",
      "source": [
        " A = [0, 1, 0, 1]\n",
        " bulb1(A)"
      ],
      "metadata": {
        "colab": {
          "base_uri": "https://localhost:8080/"
        },
        "id": "1d_ndOk1mwOy",
        "outputId": "a1612c2c-03e6-443c-9108-0571be56534c"
      },
      "execution_count": 2,
      "outputs": [
        {
          "output_type": "execute_result",
          "data": {
            "text/plain": [
              "4"
            ]
          },
          "metadata": {},
          "execution_count": 2
        }
      ]
    },
    {
      "cell_type": "markdown",
      "source": [
        "**16. Pick from both sides**\n",
        "\n",
        "**Problem Description**\n",
        "You are given an integer array A of size N.\n",
        "\n",
        "You have to pick B elements in total. Some (possibly 0) elements from left end of array A and some (possibly 0) from the right end of array A to get the maximum sum.\n",
        "\n",
        "Find and return this maximum possible sum.\n",
        "\n",
        "NOTE: Suppose B = 4, and array A contains 10 elements, then\n",
        "\n",
        "You can pick the first four elements or can pick the last four elements, or can pick 1 from front and 3 from the back, etc. You need to return the maximum possible sum of elements you can pick.\n",
        "\n",
        "\n",
        "Problem Constraints\n",
        "1 <= N <= 105\n",
        "\n",
        "1 <= B <= N\n",
        "\n",
        "-103 <= A[i] <= 103\n",
        "\n",
        "\n",
        "\n",
        "Input Format\n",
        "First argument is an integer array A.\n",
        "\n",
        "Second argument is an integer B.\n",
        "\n",
        "\n",
        "Output Format\n",
        "Return an integer denoting the maximum possible sum of elements you picked.\n",
        "\n",
        "\n",
        "**Example Input**\n",
        "\n",
        "Input 1:\n",
        " A = [5, -2, 3 , 1, 2]\n",
        " B = 3\n",
        "\n",
        "Input 2:\n",
        " A = [1, 2]\n",
        " B = 1\n",
        "\n",
        "\n",
        "**Example Output**\n",
        "\n",
        "Output 1:\n",
        " 8\n",
        "\n",
        "Output 2:\n",
        " 2"
      ],
      "metadata": {
        "id": "M08MUV5H8vta"
      }
    },
    {
      "cell_type": "code",
      "source": [
        "def PickFromSides(A, B):\n",
        "        # case1: all B elements from left\n",
        "\n",
        "        sum1, finalSum = 0,-10**9\n",
        "        for i in range(B):\n",
        "            sum1 += A[i]\n",
        "        \n",
        "        Back = B-1\n",
        "        finalSum = max(finalSum,sum1)\n",
        "        for j in range(len(A)-1,len(A)-B-1,-1):\n",
        "            sum1 += A[j]\n",
        "            sum1 -= A[Back]\n",
        "            finalSum = max(finalSum,sum1)\n",
        "            j -= 1\n",
        "            Back -= 1\n",
        "        return finalSum"
      ],
      "metadata": {
        "id": "gq_kBBbX8qY3"
      },
      "execution_count": null,
      "outputs": []
    },
    {
      "cell_type": "code",
      "source": [
        "A = [5, -2, 3 , 1, 2] \n",
        "B = 3\n",
        "PickFromSides(A,B)"
      ],
      "metadata": {
        "colab": {
          "base_uri": "https://localhost:8080/"
        },
        "id": "COzcIHn89BUK",
        "outputId": "2cc10393-e18b-4819-bca5-0608d4fdb957"
      },
      "execution_count": null,
      "outputs": [
        {
          "output_type": "execute_result",
          "data": {
            "text/plain": [
              "8"
            ]
          },
          "metadata": {},
          "execution_count": 59
        }
      ]
    },
    {
      "cell_type": "code",
      "source": [
        "def PickFromSides1(A,B):\n",
        "  pf = [0]*len(A)\n",
        "  pf[0] = A[0]\n",
        "  for i in range(1,len(A)):\n",
        "    pf[i] = pf[i-1] + A[i]\n",
        "\n",
        "  ans = pf[B-1]\n",
        "  summ = 0\n",
        "  for i in range(1,B+1):\n",
        "    summ += A[len(A)-i]\n",
        "    if i == B:\n",
        "      ans = max(ans,summ)\n",
        "    else:\n",
        "      ans = max(ans,summ + pf[B-i-1])\n",
        "  return ans"
      ],
      "metadata": {
        "id": "2rj9jM0b9HxO"
      },
      "execution_count": 11,
      "outputs": []
    },
    {
      "cell_type": "code",
      "source": [
        "A = [5, -2, 3 , 1, 2] \n",
        "B = 3\n",
        "PickFromSides1(A,B)"
      ],
      "metadata": {
        "colab": {
          "base_uri": "https://localhost:8080/"
        },
        "id": "1ekKi5WOspOi",
        "outputId": "96ef5dfd-b5b3-495a-e690-fdf7eecb6bdc"
      },
      "execution_count": 12,
      "outputs": [
        {
          "output_type": "execute_result",
          "data": {
            "text/plain": [
              "8"
            ]
          },
          "metadata": {},
          "execution_count": 12
        }
      ]
    },
    {
      "cell_type": "code",
      "source": [],
      "metadata": {
        "id": "-mGY2hOSssOy"
      },
      "execution_count": null,
      "outputs": []
    }
  ]
}
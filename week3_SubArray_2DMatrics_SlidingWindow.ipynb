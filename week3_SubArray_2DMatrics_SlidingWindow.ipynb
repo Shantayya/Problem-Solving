{
  "nbformat": 4,
  "nbformat_minor": 0,
  "metadata": {
    "colab": {
      "provenance": [],
      "authorship_tag": "ABX9TyMPjylSWEduBDxjyHQTknMP",
      "include_colab_link": true
    },
    "kernelspec": {
      "name": "python3",
      "display_name": "Python 3"
    },
    "language_info": {
      "name": "python"
    }
  },
  "cells": [
    {
      "cell_type": "markdown",
      "metadata": {
        "id": "view-in-github",
        "colab_type": "text"
      },
      "source": [
        "<a href=\"https://colab.research.google.com/github/Shantayya/Problem-Solving/blob/main/week3_SubArray_2DMatrics_SlidingWindow.ipynb\" target=\"_parent\"><img src=\"https://colab.research.google.com/assets/colab-badge.svg\" alt=\"Open In Colab\"/></a>"
      ]
    },
    {
      "cell_type": "markdown",
      "source": [
        "**1. MaxSubArray**\n",
        "\n",
        "**Problem Description**\n",
        "\n",
        "You are given an integer array C of size A. Now you need to find a subarray (contiguous elements) so that the sum of contiguous elements is maximum.\n",
        "But the sum must not exceed B.\n",
        "\n",
        "**Input Format**\n",
        "The first argument is the integer A.\n",
        "The second argument is the integer B.\n",
        "The third argument is the integer array C.\n",
        "\n",
        "**Output Format**\n",
        "Return a single integer which denotes the maximum sum."
      ],
      "metadata": {
        "id": "tiOkZweL7_ez"
      }
    },
    {
      "cell_type": "code",
      "source": [
        "def maxSubarray(A, B, C):\n",
        "        maxsum = 0\n",
        "        for i in range(A):\n",
        "          summ = 0 \n",
        "          for j in range(i,A):\n",
        "            summ += C[j]\n",
        "            if summ > maxsum and summ <= B:\n",
        "              maxsum = summ\n",
        "        return maxsum  "
      ],
      "metadata": {
        "id": "XOeH9iX-78F6"
      },
      "execution_count": null,
      "outputs": []
    },
    {
      "cell_type": "code",
      "source": [
        "A = 9\n",
        "B = 78\n",
        "C = [ 7, 1, 8, 5, 8, 5, 3, 3, 5 ]\n",
        "maxSubarray(A,B,C)"
      ],
      "metadata": {
        "colab": {
          "base_uri": "https://localhost:8080/"
        },
        "id": "gW8Kbcyb6pCg",
        "outputId": "3e697188-4701-4e9a-c8ad-1ede4d424367"
      },
      "execution_count": null,
      "outputs": [
        {
          "output_type": "execute_result",
          "data": {
            "text/plain": [
              "45"
            ]
          },
          "metadata": {},
          "execution_count": 13
        }
      ]
    },
    {
      "cell_type": "markdown",
      "source": [
        "**2. SubArraySum**\n",
        "\n",
        "**Problem Description**\n",
        "\n",
        "You are given an integer array A of length N.\n",
        "You have to find the sum of all subarray sums of A.\n",
        "More formally, a subarray is defined as a contiguous part of an array which we can obtain by deleting zero or more elements from either end of the array.\n",
        "A subarray sum denotes the sum of all the elements of that subarray.\n",
        "\n",
        "\n",
        "Problem Constraints\n",
        "1 <= N <= 105\n",
        "1 <= Ai <= 10 4\n",
        "\n",
        "\n",
        "Input Format\n",
        "The first argument is the integer array A.\n",
        "\n",
        "Output Format\n",
        "Return a single integer denoting the sum of all subarray sums of the given array.\n",
        "\n",
        "**Example Input**\n",
        "\n",
        "Input 1:\n",
        "A = [1, 2, 3]\n",
        "\n",
        "Input 2:\n",
        "A = [2, 1, 3]\n",
        "\n",
        "**Example Output**\n",
        "\n",
        "Output 1:\n",
        "20\n",
        "\n",
        "Output 2:\n",
        "19\n"
      ],
      "metadata": {
        "id": "HfO0jb90BiwG"
      }
    },
    {
      "cell_type": "code",
      "source": [
        "def subarraySum(A):\n",
        "        summ = 0\n",
        "        maxsum = 0\n",
        "        for i in range(len(A)):\n",
        "            summ = A[i] * (i+1) * (len(A)-i)\n",
        "            maxsum += summ \n",
        "        return maxsum"
      ],
      "metadata": {
        "id": "26ZHMKz36yxm"
      },
      "execution_count": 3,
      "outputs": []
    },
    {
      "cell_type": "code",
      "source": [
        " A = [1, 2, 3]\n",
        " subarraySum(A)"
      ],
      "metadata": {
        "colab": {
          "base_uri": "https://localhost:8080/"
        },
        "id": "J2_e6uisB7vp",
        "outputId": "9363ea64-4809-4b85-e4a3-136d8419441f"
      },
      "execution_count": 4,
      "outputs": [
        {
          "output_type": "execute_result",
          "data": {
            "text/plain": [
              "20"
            ]
          },
          "metadata": {},
          "execution_count": 4
        }
      ]
    },
    {
      "cell_type": "markdown",
      "source": [
        "**3. Generate All Subarrays**\n",
        "\n",
        "Problem Description\n",
        "You are given an array A of N integers.\n",
        "Return a 2D array consisting of all the subarrays of the array\n",
        "\n",
        "\n",
        "Problem Constraints\n",
        "1 <= N <= 100\n",
        "1 <= A[i] <= 105\n",
        "\n",
        "\n",
        "Input Format\n",
        "First argument A is an array of integers.\n",
        "\n",
        "\n",
        "Output Format\n",
        "Return a 2D array of integers\n",
        "\n",
        "\n",
        "**Example Input**\n",
        "\n",
        "Input 1:\n",
        "A = [1, 2, 3]\n",
        "\n",
        "Input 2:\n",
        "A = [5, 2, 1, 4]\n",
        "\n",
        "**Example Output**\n",
        "\n",
        "Output 1:\n",
        "[[1], [1, 2], [1, 2, 3], [2], [2, 3], [3]]\n",
        "\n",
        "Output 2:\n",
        "[[1 ], [1 4 ], [2 ], [2 1 ], [2 1 4 ], [4 ], [5 ], [5 2 ], [5 2 1 ], [5 2 1 4 ] ]"
      ],
      "metadata": {
        "id": "Th0xfGFJCQfA"
      }
    },
    {
      "cell_type": "code",
      "source": [
        " def GenerateSubArray(A):\n",
        "        C = []\n",
        "        for i in range(len(A)):\n",
        "            for j in range(i,len(A)):\n",
        "                temp = []\n",
        "                for k in range(i,j+1):\n",
        "                    temp.append(A[k])\n",
        "                C.append(temp)\n",
        "        return C"
      ],
      "metadata": {
        "id": "VixQJzPQCbAi"
      },
      "execution_count": 5,
      "outputs": []
    },
    {
      "cell_type": "code",
      "source": [
        "A = [5, 2, 1, 4]\n",
        "GenerateSubArray(A)"
      ],
      "metadata": {
        "colab": {
          "base_uri": "https://localhost:8080/"
        },
        "id": "af0SsQLeChU9",
        "outputId": "d08954f8-a72c-478e-8335-c68a29b6f488"
      },
      "execution_count": 6,
      "outputs": [
        {
          "output_type": "execute_result",
          "data": {
            "text/plain": [
              "[[5],\n",
              " [5, 2],\n",
              " [5, 2, 1],\n",
              " [5, 2, 1, 4],\n",
              " [2],\n",
              " [2, 1],\n",
              " [2, 1, 4],\n",
              " [1],\n",
              " [1, 4],\n",
              " [4]]"
            ]
          },
          "metadata": {},
          "execution_count": 6
        }
      ]
    },
    {
      "cell_type": "markdown",
      "source": [
        "**4. Alternate SUb Array**\n",
        "\n",
        "\n",
        "**Problem Description**\n",
        "You are given an integer array A of length N comprising of 0's & 1's, and an integer B.\n",
        "\n",
        "You have to tell all the indices of array A that can act as a center of 2 * B + 1 length 0-1 alternating subarray.\n",
        "\n",
        "A 0-1 alternating array is an array containing only 0's & 1's, and having no adjacent 0's or 1's. For e.g. arrays [0, 1, 0, 1], [1, 0] and [1] are 0-1 alternating, while [1, 1] and [0, 1, 0, 0, 1] are not.\n",
        "\n",
        "\n",
        "Problem Constraints\n",
        "1 <= N <= 103\n",
        "\n",
        "A[i] equals to 0 or 1.\n",
        "\n",
        "0 <= B <= (N - 1) / 2\n",
        "\n",
        "\n",
        "Input Format\n",
        "First argument is an integer array A.\n",
        "\n",
        "Second argument is an integer B.\n",
        "\n",
        "\n",
        "\n",
        "Output Format\n",
        "Return an integer array containing indices(0-based) in sorted order. If no such index exists, return an empty integer array.\n",
        "\n",
        "**Example Input**\n",
        "\n",
        "Input 1:\n",
        " A = [1, 0, 1, 0, 1]\n",
        " B = 1 \n",
        "\n",
        "Input 2:\n",
        " A = [0, 0, 0, 1, 1, 0, 1]\n",
        " B = 0 \n",
        "\n",
        "\n",
        "**Example Output**\n",
        "\n",
        "Output 1:\n",
        " [1, 2, 3]\n",
        "\n",
        "Output 2:\n",
        " [0, 1, 2, 3, 4, 5, 6]"
      ],
      "metadata": {
        "id": "XIUgIig1DPn7"
      }
    },
    {
      "cell_type": "code",
      "source": [
        "def AlternateSubarray(A, B):\n",
        "        C = []\n",
        "        Blen = 2*B+1\n",
        "        if B == 0:\n",
        "            return [i for i,e in enumerate(A)]\n",
        "        else:\n",
        "            for k in range(len(A)-Blen+1):\n",
        "              count = 0\n",
        "              for j in range(k+1,k+Blen):\n",
        "                if A[j-1] != A[j]:\n",
        "                    count += 1\n",
        "                    if count == Blen-1:\n",
        "                       C.append(k+Blen//2)\n",
        "                else:\n",
        "                    break \n",
        "                       \n",
        "        return C "
      ],
      "metadata": {
        "id": "MUtCfEnuDeyP"
      },
      "execution_count": 8,
      "outputs": []
    },
    {
      "cell_type": "code",
      "source": [
        "A = [1, 0, 1, 0, 1] \n",
        "B = 1\n",
        "AlternateSubarray(A,B)\n"
      ],
      "metadata": {
        "colab": {
          "base_uri": "https://localhost:8080/"
        },
        "id": "fGP4-J_jDoJ9",
        "outputId": "516515dc-3983-4a8e-9a51-adc96fa30762"
      },
      "execution_count": 9,
      "outputs": [
        {
          "output_type": "execute_result",
          "data": {
            "text/plain": [
              "[1, 2, 3]"
            ]
          },
          "metadata": {},
          "execution_count": 9
        }
      ]
    },
    {
      "cell_type": "markdown",
      "source": [
        "**5. Good SubArray**\n",
        "\n",
        "**Problem Description**\n",
        "Given an array of integers A, a subarray of an array is said to be good if it fulfills any one of the criteria:\n",
        "1. Length of the subarray is be even, and the sum of all the elements of the subarray must be less than B.\n",
        "2. Length of the subarray is be odd, and the sum of all the elements of the subarray must be greater than B.\n",
        "Your task is to find the count of good subarrays in A.\n",
        "\n",
        "\n",
        "Problem Constraints\n",
        "1 <= len(A) <= 103\n",
        "1 <= A[i] <= 103\n",
        "1 <= B <= 107\n",
        "\n",
        "\n",
        "Input Format\n",
        "The first argument given is the integer array A.\n",
        "The second argument given is an integer B.\n",
        "\n",
        "\n",
        "Output Format\n",
        "Return the count of good subarrays in A.\n",
        "\n",
        "\n",
        "**Example Input**\n",
        "\n",
        "Input 1:\n",
        "A = [1, 2, 3, 4, 5]\n",
        "B = 4\n",
        "\n",
        "Input 2:\n",
        "A = [13, 16, 16, 15, 9, 16, 2, 7, 6, 17, 3, 9]\n",
        "B = 65\n",
        "\n",
        "\n",
        "**Example Output**\n",
        "\n",
        "Output 1:\n",
        "6\n",
        "\n",
        "Output 2:\n",
        "36"
      ],
      "metadata": {
        "id": "VkRNKcA6D_Sl"
      }
    },
    {
      "cell_type": "code",
      "source": [
        "def GoodSubArray(A, B):\n",
        "        summ,count = 0,0\n",
        "        pf = [0]*len(A)\n",
        "        pf[0] = A[0]\n",
        "        for i in range(1,len(A)):\n",
        "            pf[i] = pf[i-1] +A[i]\n",
        "        \n",
        "        for i in range(len(A)):\n",
        "            for j in range(i,len(A)):\n",
        "                if i == 0:\n",
        "                    summ = pf[j]\n",
        "                else:\n",
        "                    summ = pf[j] - pf[i-1]\n",
        "                \n",
        "                if (j-i+1)%2 == 0 and summ < B:\n",
        "                    count += 1\n",
        "                elif (j-i+1)%2 != 0 and summ > B:\n",
        "                    count += 1\n",
        "        return count\n"
      ],
      "metadata": {
        "id": "7jVI_Cu5EQNX"
      },
      "execution_count": 10,
      "outputs": []
    },
    {
      "cell_type": "code",
      "source": [
        "A = [1, 2, 3, 4, 5] \n",
        "B = 4\n",
        "GoodSubArray(A,B)"
      ],
      "metadata": {
        "colab": {
          "base_uri": "https://localhost:8080/"
        },
        "id": "krvcduEyEW_2",
        "outputId": "1dfc95ca-1ca4-48c8-b9e1-29860e5ce08c"
      },
      "execution_count": 11,
      "outputs": [
        {
          "output_type": "execute_result",
          "data": {
            "text/plain": [
              "6"
            ]
          },
          "metadata": {},
          "execution_count": 11
        }
      ]
    },
    {
      "cell_type": "markdown",
      "source": [
        "**6. Counting sub arrays**\n",
        "\n",
        "**Problem Description**\n",
        "Given an array A of N non-negative numbers and a non-negative number B,\n",
        "you need to find the number of subarrays in A with a sum less than B.\n",
        "We may assume that there is no overflow.\n",
        "\n",
        "\n",
        "\n",
        "Problem Constraints\n",
        "1 <= N <= 103\n",
        "\n",
        "1 <= A[i] <= 1000\n",
        "\n",
        "1 <= B <= 107\n",
        "\n",
        "\n",
        "\n",
        "Input Format\n",
        "First argument is an integer array A.\n",
        "\n",
        "Second argument is an integer B.\n",
        "\n",
        "\n",
        "\n",
        "Output Format\n",
        "Return an integer denoting the number of subarrays in A having sum less than B.\n",
        "\n",
        "\n",
        "**Example Input**\n",
        "\n",
        "Input 1:\n",
        " A = [2, 5, 6]\n",
        " B = 10\n",
        "\n",
        "Input 2:\n",
        " A = [1, 11, 2, 3, 15]\n",
        " B = 10\n",
        "\n",
        "\n",
        "**Example Output**\n",
        "\n",
        "Output 1:\n",
        "4\n",
        "\n",
        "Output 2:\n",
        " 4"
      ],
      "metadata": {
        "id": "EKMtRorIEiQb"
      }
    },
    {
      "cell_type": "code",
      "source": [
        "  def CountSubArray(A, B):\n",
        "        summ, count = 0,0\n",
        "        pf = [0]*len(A)\n",
        "        pf[0] = A[0]\n",
        "        for i in range(1,len(A)):\n",
        "            pf[i] = pf[i-1] + A[i]\n",
        "        \n",
        "        for i in range(len(A)):\n",
        "           for j in range(i,len(A)):\n",
        "                if i == 0:\n",
        "                   summ = pf[j]\n",
        "                else:\n",
        "                    summ = pf[j] - pf[i-1]\n",
        "                if summ < B:\n",
        "                    count += 1\n",
        "        return count"
      ],
      "metadata": {
        "id": "EHkUKFkLE7Vy"
      },
      "execution_count": 12,
      "outputs": []
    },
    {
      "cell_type": "code",
      "source": [
        "A = [2, 5, 6] \n",
        "B = 10\n",
        "CountSubArray(A,B)"
      ],
      "metadata": {
        "colab": {
          "base_uri": "https://localhost:8080/"
        },
        "id": "wZJH8P5LFOTh",
        "outputId": "fd396967-28ce-4927-e650-5b4dfec3c396"
      },
      "execution_count": 13,
      "outputs": [
        {
          "output_type": "execute_result",
          "data": {
            "text/plain": [
              "4"
            ]
          },
          "metadata": {},
          "execution_count": 13
        }
      ]
    },
    {
      "cell_type": "markdown",
      "source": [
        "**7. Column Sum**\n",
        "\n",
        "**Problem Description**\n",
        "You are given a 2D integer matrix A, return a 1D integer array containing column-wise sums of original matrix.\n",
        "\n",
        "\n",
        "\n",
        "Problem Constraints\n",
        "1 <= A.size() <= 103\n",
        "\n",
        "1 <= A[i].size() <= 103\n",
        "\n",
        "1 <= A[i][j] <= 103\n",
        "\n",
        "\n",
        "\n",
        "Input Format\n",
        "First argument is a 2D array of integers.(2D matrix).\n",
        "\n",
        "\n",
        "\n",
        "Output Format\n",
        "Return an array conatining column-wise sums of original matrix.\n",
        "\n",
        "\n",
        "**Example Input**\n",
        "\n",
        "Input 1:\n",
        "[1,2,3,4]\n",
        "[5,6,7,8]\n",
        "[9,2,3,4]\n",
        "\n",
        "\n",
        "**Example Output**\n",
        "\n",
        "Output 1:\n",
        "{15,10,13,16}"
      ],
      "metadata": {
        "id": "St1ZrEoAZN2u"
      }
    },
    {
      "cell_type": "code",
      "source": [
        "def ColSum(A):\n",
        "        B = []\n",
        "        for i in range(len(A[0])):\n",
        "            summ = 0\n",
        "            for j in range(len(A)):\n",
        "                summ += A[j][i]\n",
        "            B.append(summ)\n",
        "        return B"
      ],
      "metadata": {
        "id": "M-oCq20ZZctd"
      },
      "execution_count": 1,
      "outputs": []
    },
    {
      "cell_type": "code",
      "source": [
        "A = [[1,2,3,4], [5,6,7,8], [9,2,3,4]]\n",
        "ColSum(A)"
      ],
      "metadata": {
        "colab": {
          "base_uri": "https://localhost:8080/"
        },
        "id": "wpmnW5nFZkX1",
        "outputId": "204fd4ed-216c-404d-b8ad-1700b5936c92"
      },
      "execution_count": 2,
      "outputs": [
        {
          "output_type": "execute_result",
          "data": {
            "text/plain": [
              "[15, 10, 13, 16]"
            ]
          },
          "metadata": {},
          "execution_count": 2
        }
      ]
    },
    {
      "cell_type": "markdown",
      "source": [
        "**8. Minor Diagonal Sum**\n",
        "\n",
        "**Problem Description**\n",
        "You are given a N X N integer matrix. You have to find the sum of all the minor diagonal elements of A.\n",
        "\n",
        "Minor diagonal of a M X M matrix A is a collection of elements A[i, j] such that i + j = M + 1 (where i, j are 1-based).\n",
        "\n",
        "Problem Constraints\n",
        "1 <= N <= 103\n",
        "\n",
        "-1000 <= A[i][j] <= 1000\n",
        "\n",
        "Input Format\n",
        "First and only argument is a 2D integer matrix A.\n",
        "\n",
        "Output Format\n",
        "Return an integer denoting the sum of minor diagonal elements.\n",
        "\n",
        "**Example Input**\n",
        "\n",
        "Input 1:\n",
        "\n",
        " A = [[1, -2, -3],\n",
        "      [-4, 5, -6],\n",
        "      [-7, -8, 9]]\n",
        "\n",
        "Input 2:\n",
        "\n",
        " A = [[3, 2],\n",
        "      [2, 3]]\n",
        "\n",
        "\n",
        "**Example Output**\n",
        "\n",
        "Output 1:\n",
        " -5 \n",
        "\n",
        "Output 2:\n",
        " 4 "
      ],
      "metadata": {
        "id": "1BLGc0zTZ1cW"
      }
    },
    {
      "cell_type": "code",
      "source": [
        "def MinorDiagonalSum(A):\n",
        "        i = 0\n",
        "        j = len(A)-1\n",
        "        summ = 0\n",
        "        while (i < j or j >= 0):\n",
        "            summ += A[i][j]\n",
        "            i += 1\n",
        "            j -= 1\n",
        "        return summ"
      ],
      "metadata": {
        "id": "eU1-FHD_aG0M"
      },
      "execution_count": 3,
      "outputs": []
    },
    {
      "cell_type": "code",
      "source": [
        "A = [[3, 2], [2, 3]]\n",
        "MinorDiagonalSum(A)"
      ],
      "metadata": {
        "colab": {
          "base_uri": "https://localhost:8080/"
        },
        "id": "tIdw4EyuaRVh",
        "outputId": "08d0e164-60ea-4dd0-f77c-25d15d9de1b3"
      },
      "execution_count": 4,
      "outputs": [
        {
          "output_type": "execute_result",
          "data": {
            "text/plain": [
              "4"
            ]
          },
          "metadata": {},
          "execution_count": 4
        }
      ]
    },
    {
      "cell_type": "markdown",
      "source": [
        "**9. Anti-Diagonals**\n",
        "\n",
        "**Problem Description**\n",
        "Give a N * N square matrix A, return an array of its anti-diagonals. Look at the example for more details.\n",
        "\n",
        "\n",
        "**Problem Constraints**\n",
        "1<= N <= 1000\n",
        "1<= A[i][j] <= 1e9\n",
        "\n",
        "\n",
        "**Input Format**\n",
        "Only argument is a 2D array A of size N * N.\n",
        "\n",
        "\n",
        "Output Format **bold text**\n",
        "Return a 2D integer array of size (2 * N-1) * N, representing the anti-diagonals of input array A.\n",
        "The vacant spaces in the grid should be assigned to 0.\n",
        "\n",
        "\n",
        "Example Input\n",
        "**Input 1:**\n",
        "\n",
        "    1 2 3\n",
        "    4 5 6\n",
        "    7 8 9\n",
        "\n",
        "Example Output\n",
        "**Output 1:**\n",
        "    \n",
        "    1 0 0\n",
        "    2 4 0\n",
        "    3 5 7\n",
        "    6 8 0\n",
        "    9 0 0"
      ],
      "metadata": {
        "id": "LFe5EriSdi8Y"
      }
    },
    {
      "cell_type": "code",
      "source": [
        "def diagonal(A):\n",
        "        B = []\n",
        "        C = []\n",
        "        # row = (2*len(A)-1)\n",
        "        for k in range(len(A[0])):\n",
        "            i = 0\n",
        "            j = k\n",
        "            temp = []\n",
        "            while i < len(A) and j > -1:\n",
        "                temp.append(A[i][j])\n",
        "                i += 1\n",
        "                j -= 1\n",
        "\n",
        "            if i < len(A):    \n",
        "              while i < len(A):\n",
        "                temp.append(0)\n",
        "                i += 1\n",
        "            B.append(temp)\n",
        "          \n",
        "        for k in range(1,len(A)):\n",
        "          i = k\n",
        "          j = len(A)-1\n",
        "          temp = []\n",
        "          while i < len(A) and j > -1:\n",
        "            temp.append(A[i][j])\n",
        "            i += 1\n",
        "            j -= 1\n",
        "          \n",
        "          if j > -1:\n",
        "            while j > -1:\n",
        "              temp.append(0)\n",
        "              j -= 1\n",
        "          B.append(temp)\n",
        "        print(B)\n",
        "        \n",
        "        # return B\n",
        "\n"
      ],
      "metadata": {
        "id": "gOvA183Qd0km"
      },
      "execution_count": null,
      "outputs": []
    },
    {
      "cell_type": "code",
      "source": [
        "A = [[1,2,3], [4,5,6], [7,8,9]]\n",
        "diagonal(A)"
      ],
      "metadata": {
        "colab": {
          "base_uri": "https://localhost:8080/"
        },
        "id": "wIFUJ9-zedPR",
        "outputId": "83bc9619-c9e7-4c95-ef4d-f819c7086733"
      },
      "execution_count": null,
      "outputs": [
        {
          "output_type": "stream",
          "name": "stdout",
          "text": [
            "[[1, 0, 0], [2, 4, 0], [3, 5, 7], [6, 8, 0], [9, 0, 0]]\n"
          ]
        }
      ]
    },
    {
      "cell_type": "markdown",
      "source": [
        "**10. Rotate Matrix**\n",
        "\n",
        "**Problem Description**\n",
        "\n",
        "You are given a n x n 2D matrix A representing an image.\n",
        "Rotate the image by 90 degrees (clockwise).\n",
        "You need to do this in place.\n",
        "Note: If you end up using an additional array, you will only receive partial score.\n",
        "\n",
        "\n",
        "Problem Constraints\n",
        "1 <= n <= 1000\n",
        "\n",
        "Input Format\n",
        "First argument is a 2D matrix A of integers\n",
        "\n",
        "Output Format\n",
        "Return the 2D rotated matrix.\n",
        "\n",
        "\n",
        "**Example Input**\n",
        "\n",
        "Input 1:\n",
        "\n",
        " [\n",
        "    [1, 2],\n",
        "    [3, 4]\n",
        " ]\n",
        "\n",
        "Input 2:\n",
        "\n",
        " [\n",
        "    [1]\n",
        " ]\n",
        "\n",
        "\n",
        "**Example Output**\n",
        "\n",
        "Output 1:\n",
        "\n",
        " [\n",
        "    [3, 1],\n",
        "    [4, 2]\n",
        " ]\n",
        " \n",
        "Output 2:\n",
        "\n",
        " [\n",
        "    [1]\n",
        " ]"
      ],
      "metadata": {
        "id": "PhJw2095bCTA"
      }
    },
    {
      "cell_type": "code",
      "source": [
        "def RotateMatrix(A):\n",
        "        for i in range(len(A)):\n",
        "            for j in range(i+1,len(A[0])):\n",
        "                temp = A[i][j]\n",
        "                A[i][j] = A[j][i]\n",
        "                A[j][i] = temp\n",
        "        \n",
        "        for i in range(len(A)):\n",
        "            temp = []\n",
        "            for j in range(len(A[0])-1,-1,-1):\n",
        "                temp.append(A[i][j])\n",
        "            A[i] = temp\n",
        "        return A"
      ],
      "metadata": {
        "id": "Y9Z3YLP3btcd"
      },
      "execution_count": 8,
      "outputs": []
    },
    {
      "cell_type": "code",
      "source": [
        "A = [ [1, 2], [3, 4] ]\n",
        "RotateMatrix(A)"
      ],
      "metadata": {
        "colab": {
          "base_uri": "https://localhost:8080/"
        },
        "id": "T2x8Yi95bx_y",
        "outputId": "7184f1af-b74e-481d-b4bf-ecf6342d540a"
      },
      "execution_count": 9,
      "outputs": [
        {
          "output_type": "execute_result",
          "data": {
            "text/plain": [
              "[[3, 1], [4, 2]]"
            ]
          },
          "metadata": {},
          "execution_count": 9
        }
      ]
    },
    {
      "cell_type": "markdown",
      "source": [
        "**11. Row to col Zero**\n",
        "\n",
        "**Problem Description**\n",
        "You are given a 2D integer matrix A, make all the elements in a row or column zero if the A[i][j] = 0. Specifically, make entire ith row and jth column zero.\n",
        "\n",
        "\n",
        "**Input Format** \n",
        "First argument is a vector of vector of integers.(2D matrix).\n",
        "\n",
        "\n",
        "\n",
        "**Output Format**\n",
        "Return a vector of vector after doing required operations.\n",
        "\n",
        "\n",
        "\n",
        "**Example Input**\n",
        "Input 1:\n",
        "\n",
        "[1,2,3,4]\n",
        "[5,6,7,0]\n",
        "[9,2,0,4]\n",
        "\n",
        "\n",
        "**Example Output**\n",
        "Output 1:\n",
        "\n",
        "[1,2,0,0]\n",
        "[0,0,0,0]\n",
        "[0,0,0,0]"
      ],
      "metadata": {
        "id": "BUkEAUeend2G"
      }
    },
    {
      "cell_type": "code",
      "source": [
        "def rowcolZero(A):\n",
        "        row = []\n",
        "        col = []\n",
        "\n",
        "        for i in range(len(A)):\n",
        "            for j in range(len(A[0])):\n",
        "                if A[i][j] == 0:\n",
        "                    if i not in row:\n",
        "                        row.append(i)\n",
        "\n",
        "                    if j not in col:\n",
        "                        col.append(j)\n",
        "        print(A)\n",
        "        print(row)\n",
        "        print(col)\n",
        "        for i in row:\n",
        "          for j in range(len(A[0])):\n",
        "            A[i][j] = 0\n",
        "        \n",
        "        for k in col:\n",
        "          for l in range(len(A)):\n",
        "            A[l][k] = 0\n",
        "        \n",
        "        print(A)\n",
        "\n",
        "        \n",
        "                "
      ],
      "metadata": {
        "id": "rhXyBq7PncMx"
      },
      "execution_count": null,
      "outputs": []
    },
    {
      "cell_type": "code",
      "source": [
        "A = [[1,2,3,4], [5,6,7,0],[9,2,0,4]]\n",
        "rowcolZero(A)"
      ],
      "metadata": {
        "colab": {
          "base_uri": "https://localhost:8080/"
        },
        "id": "Unq6CGI2nh5Y",
        "outputId": "841a0cba-4e95-4c26-b405-1c48bb74c995"
      },
      "execution_count": null,
      "outputs": [
        {
          "output_type": "stream",
          "name": "stdout",
          "text": [
            "[[1, 2, 3, 4], [5, 6, 7, 0], [9, 2, 0, 4]]\n",
            "[1, 2]\n",
            "[3, 2]\n",
            "[[1, 2, 0, 0], [0, 0, 0, 0], [0, 0, 0, 0]]\n"
          ]
        }
      ]
    },
    {
      "cell_type": "markdown",
      "source": [
        "**12. Sub Array with least average**\n",
        "\n",
        "**Problem Description**\n",
        "Given an array of size N, find the subarray of size K with the least average.\n",
        "\n",
        "Problem Constraints\n",
        "1<=k<=N<=1e5\n",
        "-1e5<=A[i]<=1e5\n",
        "\n",
        "\n",
        "Input Format\n",
        "First argument contains an array A of integers of size N.\n",
        "Second argument contains integer k.\n",
        "\n",
        "\n",
        "Output Format\n",
        "Return the index of the first element of the subarray of size k that has least average.\n",
        "Array indexing starts from 0.\n",
        "\n",
        "\n",
        "**Example Input**\n",
        "\n",
        "Input 1:\n",
        "\n",
        "A=[3, 7, 90, 20, 10, 50, 40]\n",
        "B=3\n",
        "\n",
        "Input 2:\n",
        "\n",
        "A=[3, 7, 5, 20, -10, 0, 12]\n",
        "B=2\n",
        "\n",
        "\n",
        "**Example Output**\n",
        "\n",
        "Output 1:\n",
        "3\n",
        "\n",
        "Output 2:\n",
        "4"
      ],
      "metadata": {
        "id": "4UKX6x79dj5s"
      }
    },
    {
      "cell_type": "code",
      "source": [
        "def SubarrayLeastAvg(A, B):\n",
        "        summ,avg,leasti = 0,0,0\n",
        "        minn = A[0]\n",
        "        if B == 1:\n",
        "            for i in range(1,len(A)):\n",
        "                if A[i] < minn:\n",
        "                    minn = A[i]\n",
        "                    leasti = i\n",
        "            return leasti\n",
        "        else:\n",
        "            for i in range(B):\n",
        "                summ += A[i]\n",
        "                avg = summ/B\n",
        "            print(avg)\n",
        "            i = 1\n",
        "            e = B\n",
        "            while e < len(A):\n",
        "                summ = summ - A[i-1] + A[e]\n",
        "                print(i,summ/B)\n",
        "                if avg > summ/B:\n",
        "                    avg = summ/B\n",
        "                    leasti = i\n",
        "                i += 1\n",
        "                e += 1\n",
        "            return leasti   "
      ],
      "metadata": {
        "id": "XQwLOMsfhzph"
      },
      "execution_count": 10,
      "outputs": []
    },
    {
      "cell_type": "code",
      "source": [
        "A=[3, 7, 5, 20, -10, 0, 12]\n",
        "B=2\n",
        "SubarrayLeastAvg(A,B)"
      ],
      "metadata": {
        "colab": {
          "base_uri": "https://localhost:8080/"
        },
        "id": "Y-fHogwBZgxY",
        "outputId": "60d9f59d-a560-4048-f5c2-e13c26008936"
      },
      "execution_count": null,
      "outputs": [
        {
          "output_type": "stream",
          "name": "stdout",
          "text": [
            "5.0\n",
            "1 6.0\n",
            "2 12.5\n",
            "3 5.0\n",
            "4 -5.0\n",
            "5 6.0\n"
          ]
        },
        {
          "output_type": "execute_result",
          "data": {
            "text/plain": [
              "4"
            ]
          },
          "metadata": {},
          "execution_count": 12
        }
      ]
    },
    {
      "cell_type": "markdown",
      "source": [
        "**13. Spiral Order matrix**\n",
        "\n",
        "Problem Description\n",
        "Given an integer A, generate a square matrix filled with elements from 1 to A2 in spiral order and return the generated square matrix.\n",
        "\n",
        "\n",
        "Problem Constraints\n",
        "1 <= A <= 1000\n",
        "\n",
        "\n",
        "Input Format\n",
        "First and only argument is integer A\n",
        "\n",
        "\n",
        "Output Format\n",
        "Return a 2-D matrix which consists of the elements added in spiral order.\n",
        "\n",
        "\n",
        "**Example Input**\n",
        "\n",
        "Input 1:\n",
        "1\n",
        "\n",
        "Input 2:\n",
        "2\n",
        "\n",
        "Input 3:\n",
        "5\n",
        "\n",
        "\n",
        "**Example Output**\n",
        "\n",
        "Output 1:\n",
        "\n",
        "[ [1] ]\n",
        "\n",
        "Output 2:\n",
        "\n",
        "[ [1, 2], [4, 3] ]\n",
        "\n",
        "Output 2:\n",
        "\n",
        "[ [1, 2, 3, 4, 5], [16, 17, 18, 19, 6], [15, 24, 25, 20, 7], [14, 23, 22, 21, 8], [13, 12, 11, 10, 9] ]"
      ],
      "metadata": {
        "id": "UXCza1EGdFR_"
      }
    },
    {
      "cell_type": "code",
      "source": [
        "def SpiralMatrix(A):\n",
        "\t\tB = []\n",
        "\t\tfor i in range(A):\n",
        "\t\t\ttemp = []\n",
        "\t\t\tfor j in range(A):\n",
        "\t\t\t\ttemp.append(0)\n",
        "\t\t\tB.append(temp)\n",
        "    \n",
        "\t\tr,c,d = 0,0,0\n",
        "\t\tk = 1\n",
        "\t\twhile k <= A*A:\n",
        "\t\t\tB[r][c] = k\n",
        "\t\t\tk += 1\n",
        "\t\t\tif d == 0:\n",
        "\t\t\t\tc += 1\n",
        "\t\t\t\tif c == A or B[r][c] != 0:\n",
        "\t\t\t\t\td = 1\n",
        "\t\t\t\t\tc -= 1\n",
        "\t\t\t\t\tr += 1\n",
        "\t\t\telif d == 1:\n",
        "\t\t\t\tr += 1\n",
        "\t\t\t\tif r == A or B[r][c] != 0:\n",
        "\t\t\t\t\tr -= 1\n",
        "\t\t\t\t\tc -= 1\n",
        "\t\t\t\t\td = 2\n",
        "\t\t\telif d == 2:\n",
        "\t\t\t\tc -= 1\n",
        "\t\t\t\tif c < 0 or B[r][c] != 0:\n",
        "\t\t\t\t\tr -= 1\n",
        "\t\t\t\t\tc += 1\n",
        "\t\t\t\t\td = 3\n",
        "\t\t\telif d == 3:\n",
        "\t\t\t\tr -= 1\n",
        "\t\t\t\tif r < 0 or B[r][c] != 0:\n",
        "\t\t\t\t\td = 0\n",
        "\t\t\t\t\tr += 1\n",
        "\t\t\t\t\tc += 1\n",
        "\t\treturn B\t"
      ],
      "metadata": {
        "id": "hGq0M05tZnHo"
      },
      "execution_count": null,
      "outputs": []
    },
    {
      "cell_type": "code",
      "source": [
        "SpiralMatrix(3)"
      ],
      "metadata": {
        "colab": {
          "base_uri": "https://localhost:8080/"
        },
        "id": "fk958A9PRMyw",
        "outputId": "df13c29f-07d0-4658-c069-50622babfe1a"
      },
      "execution_count": null,
      "outputs": [
        {
          "output_type": "execute_result",
          "data": {
            "text/plain": [
              "[[1, 2, 3], [8, 9, 4], [7, 6, 5]]"
            ]
          },
          "metadata": {},
          "execution_count": 17
        }
      ]
    },
    {
      "cell_type": "markdown",
      "source": [
        "**14. Min swap**\n",
        "\n",
        "**Problem Description**\n",
        "\n",
        "Given an array of integers A and an integer B, find and return the minimum number of swaps required to bring all the numbers less than or equal to B together.\n",
        "\n",
        "Note: It is possible to swap any two elements, not necessarily consecutive.\n",
        "\n",
        "\n",
        "Problem Constraints\n",
        "\n",
        "1 <= length of the array <= 100000\n",
        "-109 <= A[i], B <= 109\n",
        "\n",
        "\n",
        "Input Format\n",
        "\n",
        "The first argument given is the integer array A.\n",
        "The second argument given is the integer B.\n",
        "\n",
        "\n",
        "Output Format\n",
        "\n",
        "Return the minimum number of swaps.\n",
        "\n",
        "\n",
        "\n",
        "**Example Input**\n",
        "\n",
        "Input 1:\n",
        "\n",
        " A = [1, 12, 10, 3, 14, 10, 5]\n",
        " B = 8\n",
        "\n",
        "Input 2:\n",
        "\n",
        " A = [5, 17, 100, 11]\n",
        " B = 20\n",
        "\n",
        "**Example Output**\n",
        "\n",
        "Output 1:\n",
        " 2\n",
        "\n",
        "Output 2:\n",
        " 1"
      ],
      "metadata": {
        "id": "UqKq9oFedyrh"
      }
    },
    {
      "cell_type": "code",
      "source": [
        "def minSwap(A, B):\n",
        "\n",
        "        length = 0\n",
        "        for i in range(len(A)):\n",
        "            if A[i] <= B:\n",
        "                length += 1\n",
        "        \n",
        "        swap = 0\n",
        "        for i in range(length):\n",
        "            if A[i] > B:\n",
        "                swap += 1\n",
        "        \n",
        "        ans = swap\n",
        "        i = 1\n",
        "        e = length\n",
        "        while e < len(A):\n",
        "            if A[i-1] > B:\n",
        "                swap -= 1\n",
        "            if A[e] > B:\n",
        "                swap += 1\n",
        "            if ans > swap:\n",
        "                ans = swap\n",
        "            e += 1\n",
        "            i += 1\n",
        "        return ans\n",
        "        \n"
      ],
      "metadata": {
        "id": "2ZXdsIiPRPTa"
      },
      "execution_count": 11,
      "outputs": []
    },
    {
      "cell_type": "code",
      "source": [
        "A = [1, 12, 10, 3, 14, 10, 5] \n",
        "B = 8\n",
        "minSwap(A,B)"
      ],
      "metadata": {
        "colab": {
          "base_uri": "https://localhost:8080/"
        },
        "id": "CiR9Xv7UeE56",
        "outputId": "08f47a58-b509-4561-e154-888dbbdda0ba"
      },
      "execution_count": 12,
      "outputs": [
        {
          "output_type": "execute_result",
          "data": {
            "text/plain": [
              "2"
            ]
          },
          "metadata": {},
          "execution_count": 12
        }
      ]
    },
    {
      "cell_type": "markdown",
      "source": [
        "**15. Subarray with given sum and length**\n",
        "\n",
        "**Problem Description**\n",
        "Given an array A of length N. Also given are integers B and C.\n",
        "\n",
        "Return 1 if there exists a subarray with length B having sum C and 0 otherwise\n",
        "\n",
        "\n",
        "Problem Constraints\n",
        "1 <= N <= 105\n",
        "\n",
        "1 <= A[i] <= 104\n",
        "\n",
        "1 <= B <= N\n",
        "\n",
        "1 <= C <= 109\n",
        "\n",
        "\n",
        "Input Format\n",
        "First argument A is an array of integers.\n",
        "\n",
        "The remaining arguments B and C are integers\n",
        "\n",
        "\n",
        "Output Format\n",
        "Return 1 if such a subarray exist and 0 otherwise\n",
        "\n",
        "\n",
        "**Example Input**\n",
        "\n",
        "Input 1:\n",
        "A = [4, 3, 2, 6]\n",
        "B = 2\n",
        "C = 5\n",
        "\n",
        "Input 2:\n",
        "\n",
        "A = [4, 2, 2]\n",
        "B = 2\n",
        "C = 8\n",
        "\n",
        "\n",
        "Example Output\n",
        "\n",
        "Output 1:\n",
        "1\n",
        "\n",
        "Output 2:\n",
        "0"
      ],
      "metadata": {
        "id": "iPMmDW7WeN4V"
      }
    },
    {
      "cell_type": "code",
      "source": [
        " def SubarraySumlength(A, B, C):\n",
        "        pf = [0]*len(A)\n",
        "        pf[0] = A[0]\n",
        "        for i in range(1,len(A)):\n",
        "            pf[i] = pf[i-1] + A[i]\n",
        "        \n",
        "        summ = 0\n",
        "        i = 0\n",
        "        while i < i+B and i+B <= len(A):\n",
        "            if i == 0:\n",
        "                summ = pf[i+B-1]\n",
        "            else:\n",
        "                summ = pf[i+B-1] - pf[i-1]\n",
        "            \n",
        "            if summ == C:\n",
        "                return 1\n",
        "            i += 1\n",
        "        else:\n",
        "            return 0"
      ],
      "metadata": {
        "id": "FdajADOgeIcx"
      },
      "execution_count": 14,
      "outputs": []
    },
    {
      "cell_type": "code",
      "source": [
        "A = [4, 3, 2, 6] \n",
        "B = 2 \n",
        "C = 5\n",
        "SubarraySumlength(A,B,C)\n"
      ],
      "metadata": {
        "colab": {
          "base_uri": "https://localhost:8080/"
        },
        "id": "oldQq7K5eho9",
        "outputId": "ad64a331-c072-4334-d0f6-010faee5903f"
      },
      "execution_count": 15,
      "outputs": [
        {
          "output_type": "execute_result",
          "data": {
            "text/plain": [
              "1"
            ]
          },
          "metadata": {},
          "execution_count": 15
        }
      ]
    },
    {
      "cell_type": "code",
      "source": [],
      "metadata": {
        "id": "3LUPDJhWe4bB"
      },
      "execution_count": null,
      "outputs": []
    }
  ]
}
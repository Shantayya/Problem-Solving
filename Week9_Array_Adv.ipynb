{
  "nbformat": 4,
  "nbformat_minor": 0,
  "metadata": {
    "colab": {
      "provenance": [],
      "authorship_tag": "ABX9TyMguQkDCAFMYXdIIaeLj94P",
      "include_colab_link": true
    },
    "kernelspec": {
      "name": "python3",
      "display_name": "Python 3"
    },
    "language_info": {
      "name": "python"
    }
  },
  "cells": [
    {
      "cell_type": "markdown",
      "metadata": {
        "id": "view-in-github",
        "colab_type": "text"
      },
      "source": [
        "<a href=\"https://colab.research.google.com/github/Shantayya/Problem-Solving-DSA/blob/main/Week9_Array_Adv.ipynb\" target=\"_parent\"><img src=\"https://colab.research.google.com/assets/colab-badge.svg\" alt=\"Open In Colab\"/></a>"
      ]
    },
    {
      "cell_type": "markdown",
      "source": [
        "**1. Continuous Sum Query**\n",
        "\n",
        "**Problem Description**\n",
        "\n",
        "There are A beggars sitting in a row outside a temple. Each beggar initially has an empty pot. When the devotees come to the temple, they donate some amount of coins to these beggars. Each devotee gives a fixed amount of coin(according to their faith and ability) to some K beggars sitting next to each other.\n",
        "\n",
        "Given the amount P donated by each devotee to the beggars ranging from L to R index, where 1 <= L <= R <= A, find out the final amount of money in each beggar's pot at the end of the day, provided they don't fill their pots by any other means.\n",
        "For ith devotee B[i][0] = L, B[i][1] = R, B[i][2] = P, Given by the 2D array B\n",
        "\n",
        "\n",
        "**Problem Constraints**\n",
        "\n",
        "1 <= A <= 2 * 105\n",
        "\n",
        "1 <= L <= R <= A\n",
        "\n",
        "1 <= P <= 103\n",
        "\n",
        "0 <= len(B) <= 105\n",
        "\n",
        "\n",
        "Input Format:\n",
        "\n",
        "The first argument is a single integer A.\n",
        "The second argument is a 2D integer array B.\n",
        "\n",
        "\n",
        "Output Format:\n",
        "\n",
        "Return an array(0 based indexing) that stores the total number of coins in each beggars pot.\n",
        "\n",
        "\n",
        "**Example Input**\n",
        "\n",
        "Input 1:-\n",
        "A = 5\n",
        "B = [[1, 2, 10], [2, 3, 20], [2, 5, 25]]\n",
        "\n",
        "\n",
        "**Example Output**\n",
        "\n",
        "Output 1:-\n",
        "10 55 45 25 25\n",
        "\n",
        "\n",
        "**Example Explanation**\n",
        "\n",
        "Explanation 1:-\n",
        "First devotee donated 10 coins to beggars ranging from 1 to 2. Final amount in each beggars pot after first devotee: [10, 10, 0, 0, 0]\n",
        "Second devotee donated 20 coins to beggars ranging from 2 to 3. Final amount in each beggars pot after second devotee: [10, 30, 20, 0, 0]\n",
        "Third devotee donated 25 coins to beggars ranging from 2 to 5. Final amount in each beggars pot after third devotee: [10, 55, 45, 25, 25]"
      ],
      "metadata": {
        "id": "zP9qtQjSDw5r"
      }
    },
    {
      "cell_type": "code",
      "source": [
        "def ContSumQ(A, B):\n",
        "        Beg = [0]*A\n",
        "        for i in range(len(B)):\n",
        "            Beg[B[i][0]-1] += B[i][2]\n",
        "            if B[i][1] <= A-1:\n",
        "                Beg[B[i][1]] += -B[i][2]\n",
        "        \n",
        "        ps = [0]*A\n",
        "        ps[0] = Beg[0]\n",
        "        for j in range(1,A):\n",
        "            ps[j] = ps[j-1] + Beg[j]\n",
        "\n",
        "        return ps"
      ],
      "metadata": {
        "id": "pDsNfX5vD5ez"
      },
      "execution_count": 1,
      "outputs": []
    },
    {
      "cell_type": "code",
      "source": [
        "A = 5 \n",
        "B = [[1, 2, 10], [2, 3, 20], [2, 5, 25]]\n",
        "ContSumQ(A,B)"
      ],
      "metadata": {
        "colab": {
          "base_uri": "https://localhost:8080/"
        },
        "id": "zFhqJSlHEj3A",
        "outputId": "4608f9d6-9838-4ed6-f5af-bc474aef2aa0"
      },
      "execution_count": 2,
      "outputs": [
        {
          "output_type": "execute_result",
          "data": {
            "text/plain": [
              "[10, 55, 45, 25, 25]"
            ]
          },
          "metadata": {},
          "execution_count": 2
        }
      ]
    },
    {
      "cell_type": "markdown",
      "source": [
        "**2. Prefix maximum**\n",
        "\n",
        "**Problem Description**\n",
        "\n",
        "Given an array A of length N, For every index i, you need to find the maximum value occurring in subarray from 0 to i.\n",
        "\n",
        "\n",
        "**Problem Constraints**\n",
        "\n",
        "1 <= N <= 105\n",
        "1 <= A[i] <= 109\n",
        "\n",
        "\n",
        "Input Format\n",
        "Only argument A is an array of integers.\n",
        "\n",
        "\n",
        "Output Format\n",
        "Return an array of integers denoting the prefix maximum of the given array.\n",
        "\n",
        "\n",
        "**Example Input**\n",
        "\n",
        "Input 1:\n",
        "\n",
        "A = [9, 7, 6, 18, 2]\n",
        "\n",
        "Input 2:\n",
        "\n",
        "A = [16, 8, 24, 9, 25, 17]\n",
        "\n",
        "\n",
        "**Example Output**\n",
        "\n",
        "Output 1:\n",
        "\n",
        "[9, 9, 9, 18, 18]\n",
        "\n",
        "Output 2:\n",
        "\n",
        "[16, 16, 24, 24, 25, 25]\n",
        "\n",
        "\n",
        "**Example Explanation**\n",
        "\n",
        "Explanation 1:\n",
        "\n",
        "The prefix maximum array of [9, 7, 6, 18, 2] is [9, 9, 9, 18, 18].\n",
        "\n",
        "Explanation 2:\n",
        "\n",
        "The prefix maximum array of [16, 8, 24, 9, 25, 17] is [16, 16, 24, 24, 25, 25].\n"
      ],
      "metadata": {
        "id": "Nk2yOO0VEzTJ"
      }
    },
    {
      "cell_type": "code",
      "source": [
        "def PrefMax(A):\n",
        "        ps = [0]*len(A)\n",
        "        ps[0] = A[0]\n",
        "        for j in range(1,len(A)):\n",
        "            if ps[j-1] > A[j]:\n",
        "                ps[j] = ps[j-1]\n",
        "            else:\n",
        "                ps[j] = A[j] \n",
        "        return ps"
      ],
      "metadata": {
        "id": "yfdNJf2cEnV3"
      },
      "execution_count": 4,
      "outputs": []
    },
    {
      "cell_type": "code",
      "source": [
        "A = [16, 8, 24, 9, 25, 17]\n",
        "PrefMax(A)"
      ],
      "metadata": {
        "colab": {
          "base_uri": "https://localhost:8080/"
        },
        "id": "RT1cS-C_FL7y",
        "outputId": "a78c3a0b-109b-488f-af96-272c1c7e8b27"
      },
      "execution_count": 5,
      "outputs": [
        {
          "output_type": "execute_result",
          "data": {
            "text/plain": [
              "[16, 16, 24, 24, 25, 25]"
            ]
          },
          "metadata": {},
          "execution_count": 5
        }
      ]
    },
    {
      "cell_type": "markdown",
      "source": [
        "**3. Suffix maximum**\n",
        "\n",
        "**Problem Description**\n",
        "\n",
        "Given an array A of length N, For every index i, you need to find the maximum value in subarray from i to N-1.\n",
        "\n",
        "\n",
        "**Problem Constraints**\n",
        "\n",
        "1 <= N <= 105\n",
        "1 <= A[i] <= 109\n",
        "\n",
        "\n",
        "Input Format\n",
        "\n",
        "Only argument A is an array of integers.\n",
        "\n",
        "\n",
        "Output Format\n",
        "\n",
        "Return an array of integers denoting the suffix maximum of the given array.\n",
        "\n",
        "\n",
        "**Example Input**\n",
        "\n",
        "Input 1:\n",
        "\n",
        "A = [12, 5, 6, 7]\n",
        "\n",
        "Input 2:\n",
        "\n",
        "A = [15, 9, 7, 11, 10]\n",
        "\n",
        "\n",
        "**Example Output**\n",
        "\n",
        "Output 1:\n",
        "\n",
        "[12, 7, 7, 7]\n",
        "\n",
        "Output 2:\n",
        "\n",
        "[15, 11, 11, 11, 10]\n",
        "\n",
        "\n",
        "**Example Explanation**\n",
        "\n",
        "Explanation 1:\n",
        "\n",
        "The suffix maximum array of [12, 5, 6, 7]] is [12, 7, 7, 7].\n",
        "\n",
        "Explanation 2:\n",
        "\n",
        "The suffix maximum array of [15, 9, 7, 11, 10] is [15, 11, 11, 11, 10]."
      ],
      "metadata": {
        "id": "1otjfIbpFZeK"
      }
    },
    {
      "cell_type": "code",
      "source": [
        "def SufMax(A):\n",
        "        ss = [0]*len(A)\n",
        "        ss[len(A)-1] = A[len(A)-1]\n",
        "        for j in range(len(A)-2,-1,-1):\n",
        "            if ss[j+1] > A[j]:\n",
        "                ss[j] = ss[j+1]\n",
        "            else:\n",
        "                ss[j] = A[j]\n",
        "        \n",
        "        return ss"
      ],
      "metadata": {
        "id": "iWtm_hgNFSTs"
      },
      "execution_count": 6,
      "outputs": []
    },
    {
      "cell_type": "code",
      "source": [
        "A = [15, 9, 7, 11, 10]\n",
        "SufMax(A)"
      ],
      "metadata": {
        "colab": {
          "base_uri": "https://localhost:8080/"
        },
        "id": "Fs5A67raFyTC",
        "outputId": "0f6317b0-fd32-4c41-ae86-ce839eb4b38a"
      },
      "execution_count": 7,
      "outputs": [
        {
          "output_type": "execute_result",
          "data": {
            "text/plain": [
              "[15, 11, 11, 11, 10]"
            ]
          },
          "metadata": {},
          "execution_count": 7
        }
      ]
    },
    {
      "cell_type": "markdown",
      "source": [
        "**4. Rain Water Trapped**\n",
        "\n",
        "**Problem Description**\n",
        "\n",
        "Given a vector A of non-negative integers representing an elevation map where the width of each bar is 1, compute how much water it is able to trap after raining.\n",
        "\n",
        "\n",
        "**Problem Constraints**\n",
        "\n",
        "1 <= |A| <= 100000\n",
        "\n",
        "\n",
        "Input Format\n",
        "First and only argument is the vector A\n",
        "\n",
        "Output Format\n",
        "Return one integer, the answer to the question\n",
        "\n",
        "\n",
        "**Example Input**\n",
        "\n",
        "Input 1:\n",
        "\n",
        "A = [0, 1, 0, 2]\n",
        "\n",
        "Input 2:\n",
        "\n",
        "A = [1, 2]\n",
        "\n",
        "\n",
        "**Example Output**\n",
        "\n",
        "Output 1:\n",
        "\n",
        "1\n",
        "\n",
        "Output 2:\n",
        "\n",
        "0\n",
        "\n",
        "\n",
        "**Example Explanation**\n",
        "\n",
        "Explanation 1:\n",
        "\n",
        "1 unit is trapped on top of the 3rd element.\n",
        "\n",
        "Explanation 2:\n",
        "\n",
        "No water is trapped."
      ],
      "metadata": {
        "id": "Eya4WkdBF364"
      }
    },
    {
      "cell_type": "code",
      "source": [
        "def trap(A):\n",
        "        minn = [0]*len(A)\n",
        "        left = [0]*len(A)\n",
        "        right = [0]*len(A)\n",
        "\n",
        "        left[0] = A[0]\n",
        "        for i in range(1,len(A)):\n",
        "            if left[i-1] > A[i]:\n",
        "                left[i] = left[i-1]\n",
        "            else:\n",
        "                left[i] = A[i]\n",
        "        \n",
        "        right[len(A)-1] = A[len(A)-1]\n",
        "        for j in range(len(A)-2,-1,-1):\n",
        "            if right[j+1] > A[j]:\n",
        "                right[j] = right[j+1]\n",
        "            else:\n",
        "                right[j] = A[j]\n",
        "        \n",
        "        water = 0\n",
        "        for k in range(len(A)):\n",
        "            minn[k] = min(left[k],right[k])\n",
        "            water += minn[k] - A[k]\n",
        "        \n",
        "        return water"
      ],
      "metadata": {
        "id": "4sQaNTfZFv0w"
      },
      "execution_count": 8,
      "outputs": []
    },
    {
      "cell_type": "code",
      "source": [
        "A = [ 0, 1, 0, 2, 1, 0, 1, 3, 2, 1, 2, 1 ]\n",
        "trap(A)"
      ],
      "metadata": {
        "colab": {
          "base_uri": "https://localhost:8080/"
        },
        "id": "0oHGdB1mGM52",
        "outputId": "4efed403-b12c-4f47-e333-5b12966433b2"
      },
      "execution_count": 9,
      "outputs": [
        {
          "output_type": "execute_result",
          "data": {
            "text/plain": [
              "6"
            ]
          },
          "metadata": {},
          "execution_count": 9
        }
      ]
    },
    {
      "cell_type": "markdown",
      "source": [
        "**5. Max Sum Contiguous Subarray**\n",
        "\n",
        "**Problem Description**\n",
        "\n",
        "Find the contiguous non-empty subarray within an array, A of length N, with the largest sum.\n",
        "\n",
        "\n",
        "**Problem Constraints**\n",
        "\n",
        "1 <= N <= 1e6\n",
        "-1000 <= A[i] <= 1000\n",
        "\n",
        "\n",
        "Input Format\n",
        "\n",
        "The first and the only argument contains an integer array, A.\n",
        "\n",
        "\n",
        "Output Format\n",
        "\n",
        "Return an integer representing the maximum possible sum of the contiguous subarray.\n",
        "\n",
        "\n",
        "**Example Input**\n",
        "\n",
        "Input 1:\n",
        "\n",
        " A = [1, 2, 3, 4, -10] \n",
        "\n",
        "Input 2:\n",
        "\n",
        " A = [-2, 1, -3, 4, -1, 2, 1, -5, 4] \n",
        "\n",
        "\n",
        "**Example Output**\n",
        "\n",
        "Output 1:\n",
        "\n",
        " 10 \n",
        "\n",
        "Output 2:\n",
        "\n",
        " 6 \n",
        "\n",
        "\n",
        "**Example Explanation**\n",
        "\n",
        "Explanation 1:\n",
        "\n",
        " The subarray [1, 2, 3, 4] has the maximum possible sum of 10. \n",
        " \n",
        "Explanation 2:\n",
        "\n",
        " The subarray [4,-1,2,1] has the maximum possible sum of 6. \n"
      ],
      "metadata": {
        "id": "QHQeFJDkGd9h"
      }
    },
    {
      "cell_type": "code",
      "source": [
        "def maxSubArray(A):\n",
        "        cs,ms=0,A[0]\n",
        "        for j in range(1,len(A)):\n",
        "            if A[j] > ms:\n",
        "                ms = A[j]\n",
        "        \n",
        "        for i in range(len(A)):\n",
        "            cs += A[i]\n",
        "            if cs < 0:\n",
        "                cs = 0\n",
        "            elif cs > ms:\n",
        "                ms = cs\n",
        "        return ms"
      ],
      "metadata": {
        "id": "5Gak_tf8GVW_"
      },
      "execution_count": 10,
      "outputs": []
    },
    {
      "cell_type": "code",
      "source": [
        "A = [-2, 1, -3, 4, -1, 2, 1, -5, 4]\n",
        "maxSubArray(A)"
      ],
      "metadata": {
        "colab": {
          "base_uri": "https://localhost:8080/"
        },
        "id": "ERbE3gs1G0U4",
        "outputId": "6a01cec0-7425-41fe-d0ea-939e9707b374"
      },
      "execution_count": 11,
      "outputs": [
        {
          "output_type": "execute_result",
          "data": {
            "text/plain": [
              "6"
            ]
          },
          "metadata": {},
          "execution_count": 11
        }
      ]
    },
    {
      "cell_type": "markdown",
      "source": [
        "**6. Range Sum - II**\n",
        "\n",
        "**Problem Description**\n",
        "\n",
        "Given an integer array A of size N. You are asked to perfom Q queries on the given array and return the final array after processing all queries.\n",
        "\n",
        "Each query is of type ( l, r, c), for each query add c in index range l to r.\n",
        "\n",
        "NOTE: Value of each element in the final array will fit in 32 bit signed integer.\n",
        "\n",
        "\n",
        "\n",
        "**Problem Constraints**\n",
        "\n",
        "1 <= N, Q <= 105\n",
        "\n",
        "-106 <= A[i], c <= 106\n",
        "\n",
        "1 <= l <= r <= N\n",
        "\n",
        "\n",
        "\n",
        "Input Format\n",
        "\n",
        "First argument is an integer array A of size N.\n",
        "\n",
        "Second argument is a 2d array B of size Q x 3, where B[i][0] = l, B[i][1] = r and B[i][2] = c.\n",
        "\n",
        "\n",
        "\n",
        "Output Format\n",
        "\n",
        "Return the final array after processing all queries.\n",
        "\n",
        "\n",
        "\n",
        "**Example Input**\n",
        "\n",
        "Input 1:\n",
        "\n",
        " A = [1, 2, 1, 4]\n",
        "\n",
        " B = [\n",
        "       [2, 3, 2]\n",
        "       [1, 4, 5]\n",
        "       [4, 4, 1]\n",
        "     ]\n",
        "\n",
        "Input 2:\n",
        "\n",
        " A = [1, 1, 2]\n",
        "\n",
        " B = [\n",
        "       [2, 3, 2]\n",
        "       [1, 3, 5]\n",
        "     ]\n",
        "\n",
        "\n",
        "**Example Output**\n",
        "\n",
        "Output 1:\n",
        "\n",
        " [6, 9, 8, 10]\n",
        "\n",
        "Output 2:\n",
        "\n",
        " [6, 8, 9]\n",
        "\n",
        "\n",
        "**Example Explanation**\n",
        "\n",
        "Explanation 1:\n",
        "\n",
        " First query, l = 2, r = 3, c = 2, after processing array becomes : [1, 4, 3, 4]\n",
        " Second query, l = 1, r = 4, c = 5, after processing array becomes : [6, 9, 8, 9]\n",
        " Third query, l = 4, r = 4, c = 1, after processing array becomes : [6, 9, 8, 10]\n",
        " Final array is [6, 9, 8, 10]\n",
        " \n",
        "Explanation 2:\n",
        "\n",
        " First query, l = 2, r = 3, c = 2, after processing array becomes : [1, 3, 4]\n",
        " Second query, l = 1, r = 3, c = 5, after processing array becomes : [6, 8, 9]\n",
        " Final array is [6, 8, 9]"
      ],
      "metadata": {
        "id": "2ia1aacoHBzt"
      }
    },
    {
      "cell_type": "code",
      "source": [
        "def RangeSum(A, B):\n",
        "        ps = [0]*len(A)\n",
        "        for j in range(len(B)):\n",
        "            ps[B[j][0]-1] += B[j][2] \n",
        "            if B[j][1] < len(A):\n",
        "                ps[B[j][1]] += -B[j][2]\n",
        "        \n",
        "        for i in range(1,len(A)):\n",
        "            ps[i] = ps[i-1] + ps[i]\n",
        "\n",
        "        for k in range(len(A)):\n",
        "            A[k] += ps[k]\n",
        "        return A"
      ],
      "metadata": {
        "id": "aw3poKFyG82E"
      },
      "execution_count": 14,
      "outputs": []
    },
    {
      "cell_type": "code",
      "source": [
        "A = [1, 2, 1, 4]\n",
        "B = [ [2, 3, 2], [1, 4, 5], [4, 4, 1] ]\n",
        "RangeSum(A,B)"
      ],
      "metadata": {
        "colab": {
          "base_uri": "https://localhost:8080/"
        },
        "id": "t2DuuC3XHXyf",
        "outputId": "ea725aa4-348d-44c6-c96e-89cceb56e7ad"
      },
      "execution_count": 16,
      "outputs": [
        {
          "output_type": "execute_result",
          "data": {
            "text/plain": [
              "[6, 9, 8, 10]"
            ]
          },
          "metadata": {},
          "execution_count": 16
        }
      ]
    },
    {
      "cell_type": "markdown",
      "source": [
        "**7. Chocolate Distribution**\n",
        "\n",
        "**Problem Description**\n",
        "\n",
        "Given an array A of N integers where the i-th element represent the number of chocolates in the i-th packet.\n",
        "\n",
        "There are B number of students, the task is to distribute chocolate packets following below conditions:\n",
        "\n",
        "1. Each student gets one packets.\n",
        "2. The difference between the number of chocolates given to any two students is minimum.\n",
        "\n",
        "Return the minimum difference (that can be achieved) between the student who gets minimum number of chocolates and the student who gets maximum number of chocolates.\n",
        "\n",
        "Note: If you can't give each student 1 packet, return 0.\n",
        "\n",
        "\n",
        "\n",
        "**Problem Constraints**\n",
        "0 <= N <= 10^5\n",
        "1 <= A[i] <= 10^7\n",
        "0 <= B <= 10^5\n",
        "\n",
        "\n",
        "Input Format\n",
        "\n",
        "The first argument contains an integer array A.\n",
        "\n",
        "The second argument contains an integer B.\n",
        "\n",
        "\n",
        "Output Format\n",
        "\n",
        "Return the minimum difference (that can be achieved) between maximum and minimum number of chocolates distributed.\n",
        "\n",
        "\n",
        "**Example Input**\n",
        "\n",
        "Input:\n",
        "\n",
        "  A : [3, 4, 1, 9, 56, 7, 9, 12]\n",
        "  B : 5\n",
        "\n",
        "\n",
        "**Example Output**\n",
        "\n",
        "Output:\n",
        "\n",
        "  6\n",
        "\n",
        "\n",
        "**Example Explanation**\n",
        "\n",
        "Explanation:\n",
        "  \n",
        "  We can choose the packets with chocolates = [3, 4, 9, 7, 9]\n",
        "  The difference between maximum and minimum is 9-3 = 6"
      ],
      "metadata": {
        "id": "0mNb1MmQHvyd"
      }
    },
    {
      "cell_type": "code",
      "source": [
        "def DistChocolate(A, B):\n",
        "        if len(A) < B or B == 0:\n",
        "            return 0\n",
        "\n",
        "        A.sort()\n",
        "        minn,diff = 0,0\n",
        "        s = 1\n",
        "        e = B\n",
        "        minn = A[B-1] - A[0]\n",
        "        while e < len(A):\n",
        "            diff = A[e] - A[s]\n",
        "            if diff < minn:\n",
        "                minn = diff\n",
        "            s += 1\n",
        "            e += 1\n",
        "        return minn"
      ],
      "metadata": {
        "id": "AnhMVlkCHgrD"
      },
      "execution_count": 17,
      "outputs": []
    },
    {
      "cell_type": "code",
      "source": [
        "A = [3, 4, 1, 9, 56, 7, 9, 12] \n",
        "B = 5\n",
        "DistChocolate(A,B)"
      ],
      "metadata": {
        "colab": {
          "base_uri": "https://localhost:8080/"
        },
        "id": "5Wi5gvevIJbZ",
        "outputId": "44a9cd7a-8071-4faf-fbe8-e193d95acc93"
      },
      "execution_count": 18,
      "outputs": [
        {
          "output_type": "execute_result",
          "data": {
            "text/plain": [
              "6"
            ]
          },
          "metadata": {},
          "execution_count": 18
        }
      ]
    },
    {
      "cell_type": "code",
      "source": [],
      "metadata": {
        "id": "xmWLPjcBIPLp"
      },
      "execution_count": null,
      "outputs": []
    }
  ]
}
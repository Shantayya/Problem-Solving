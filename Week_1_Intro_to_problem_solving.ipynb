{
  "nbformat": 4,
  "nbformat_minor": 0,
  "metadata": {
    "colab": {
      "provenance": [],
      "authorship_tag": "ABX9TyMsgOmzzgfHfLd96P0oSf2w",
      "include_colab_link": true
    },
    "kernelspec": {
      "name": "python3",
      "display_name": "Python 3"
    },
    "language_info": {
      "name": "python"
    }
  },
  "cells": [
    {
      "cell_type": "markdown",
      "metadata": {
        "id": "view-in-github",
        "colab_type": "text"
      },
      "source": [
        "<a href=\"https://colab.research.google.com/github/Shantayya/Problem-Solving/blob/main/Week_1_Intro_to_problem_solving.ipynb\" target=\"_parent\"><img src=\"https://colab.research.google.com/assets/colab-badge.svg\" alt=\"Open In Colab\"/></a>"
      ]
    },
    {
      "cell_type": "markdown",
      "source": [
        "**1. Count Factor-2**\n",
        "\n",
        "**Problem Description**\n",
        "Given an integer A, you need to find the count of it's factors.\n",
        "\n",
        "Factor of a number is the number which divides it perfectly leaving no remainder.\n",
        "\n",
        "**Example **: 1, 2, 3, 6 are factors of 6\n",
        "\n",
        "\n",
        "Problem Constraints\n",
        "1 <= A <= 109\n",
        "\n",
        "\n",
        "**Input Format**\n",
        "First and only argument is an integer A.\n",
        "\n",
        "\n",
        "**Output Format**\n",
        "Return the count of factors of A.\n",
        "\n",
        "\n",
        "Example Input **bold text**\n",
        "Input 1:\n",
        "5\n",
        "Input 2:\n",
        "10\n",
        "\n",
        "\n",
        "**Example Output**\n",
        "Output 1:\n",
        "2\n",
        "Output 2:\n",
        "4"
      ],
      "metadata": {
        "id": "st7QnmaSp6Vk"
      }
    },
    {
      "cell_type": "code",
      "source": [
        "import math\n",
        "def solve(A):\n",
        "        count = 0 \n",
        "        for i in range(1,math.floor(A**0.5)+1):\n",
        "            if A%i == 0:\n",
        "                 if i == (A/i):\n",
        "                     count += 1\n",
        "                 else:\n",
        "                     count += 2\n",
        "        return count\n"
      ],
      "metadata": {
        "id": "IhOFSmsdp0I6"
      },
      "execution_count": null,
      "outputs": []
    },
    {
      "cell_type": "code",
      "source": [
        "solve(5)"
      ],
      "metadata": {
        "colab": {
          "base_uri": "https://localhost:8080/"
        },
        "id": "7fNtPpPDqRac",
        "outputId": "756e9881-6522-458f-9f77-1a41d5df217f"
      },
      "execution_count": null,
      "outputs": [
        {
          "output_type": "execute_result",
          "data": {
            "text/plain": [
              "2"
            ]
          },
          "metadata": {},
          "execution_count": 5
        }
      ]
    },
    {
      "cell_type": "markdown",
      "source": [
        "**2. IsPrime?**\n",
        "\n",
        "**Problem Description**\n",
        "Given an Integer A. Return 1 if A is prime and return 0 if not.\n",
        "\n",
        "\n",
        "Problem Constraints\n",
        "1 <= A <= 1012\n",
        "\n",
        "**Input Format **\n",
        "The first argument is a single integer A.\n",
        "\n",
        "\n",
        "**Output Format**\n",
        "Return 1 if A is prime else return 0.\n",
        "\n",
        "\n",
        "**Example Input**\n",
        "Input 1:\n",
        "A = 5\n",
        "Input 2:\n",
        "\n",
        "A = 10\n",
        "\n",
        "Example Output\n",
        "Output 1:\n",
        "1\n",
        "Output 2:\n",
        "\n",
        "0\n"
      ],
      "metadata": {
        "id": "H29QowACqlJo"
      }
    },
    {
      "cell_type": "code",
      "source": [
        "import math\n",
        "def isPrime(A):\n",
        "        count = 0\n",
        "        for i in range(1,math.floor(A**0.5)+1):\n",
        "            if A%i == 0:\n",
        "                if i == (A/i):\n",
        "                    count += 1\n",
        "                else:\n",
        "                    count += 2\n",
        "        \n",
        "        if count == 2:\n",
        "            return 1\n",
        "        else:\n",
        "            return 0"
      ],
      "metadata": {
        "id": "1OKW8hg4qYYc"
      },
      "execution_count": null,
      "outputs": []
    },
    {
      "cell_type": "code",
      "source": [
        "isPrime(5)"
      ],
      "metadata": {
        "colab": {
          "base_uri": "https://localhost:8080/"
        },
        "id": "10_Ya_xAq9wb",
        "outputId": "df0996dc-58d7-4f9a-f8df-e8dc8d1f0375"
      },
      "execution_count": null,
      "outputs": [
        {
          "output_type": "execute_result",
          "data": {
            "text/plain": [
              "1"
            ]
          },
          "metadata": {},
          "execution_count": 7
        }
      ]
    },
    {
      "cell_type": "markdown",
      "source": [
        "**3. Square root of Number**\n",
        "\n",
        "**Problem Description**\n",
        "\n",
        "Given a number A. Return square root of the number if it is perfect square otherwise return -1.\n",
        "\n",
        "Problem Constraints\n",
        "\n",
        "1 <= A <= 108\n",
        "\n",
        "**Input Format**\n",
        "\n",
        "First and the only argument is an integer A.\n",
        "\n",
        "**Output Format**\n",
        "\n",
        "Return an integer which is the square root of A if A is perfect square otherwise return -1.\n",
        "\n",
        "**Example Input**\n",
        "\n",
        "Input 1:\n",
        "\n",
        "A = 4\n",
        "\n",
        "Input 2:\n",
        "\n",
        "A = 1001\n",
        "\n",
        "**Example Output**\n",
        "\n",
        "Output 1:\n",
        "\n",
        "2\n",
        "\n",
        "Output 2:\n",
        "\n",
        "-1"
      ],
      "metadata": {
        "id": "CRjKz1EirG7s"
      }
    },
    {
      "cell_type": "code",
      "source": [
        "def SquareRoot(A):\n",
        "        i = 1\n",
        "        while (i**2) <= A:\n",
        "            if (i**2) == A:\n",
        "                return i\n",
        "            i += 1\n",
        "        else:\n",
        "            return -1"
      ],
      "metadata": {
        "id": "LjxLOCf1rAq0"
      },
      "execution_count": null,
      "outputs": []
    },
    {
      "cell_type": "code",
      "source": [
        "SquareRoot(1001)"
      ],
      "metadata": {
        "colab": {
          "base_uri": "https://localhost:8080/"
        },
        "id": "BqF-rIylruY0",
        "outputId": "dc17d330-8e80-4bae-9ac3-1272167e75b9"
      },
      "execution_count": null,
      "outputs": [
        {
          "output_type": "execute_result",
          "data": {
            "text/plain": [
              "-1"
            ]
          },
          "metadata": {},
          "execution_count": 11
        }
      ]
    },
    {
      "cell_type": "markdown",
      "source": [
        "**4. Find perfect square**\n",
        "\n",
        "**Problem Description**\n",
        "You are given an integer A. You have to tell whether it is a perfect number or not.\n",
        "\n",
        "Perfect number is a positive integer which is equal to the sum of its proper positive divisors.\n",
        "\n",
        "A proper divisor of a natural number is the divisor that is strictly less than the number.\n",
        "\n",
        "\n",
        "\n",
        "Problem Constraints\n",
        "1 <= A <= 106\n",
        "\n",
        "\n",
        "\n",
        "Input Format\n",
        "First and only argument contains a single positive integer A.\n",
        "\n",
        "\n",
        "\n",
        "Output Format\n",
        "Return 1 if A is a perfect number and 0 otherwise.\n",
        "\n",
        "\n",
        "\n",
        "**Example Input**\n",
        "\n",
        "Input 1:\n",
        "A = 4\n",
        "\n",
        "Input 2:\n",
        "A = 6\n",
        "\n",
        "\n",
        "Example Output\n",
        "\n",
        "Output 1:\n",
        "0 \n",
        "\n",
        "Output 2:\n",
        "1 "
      ],
      "metadata": {
        "id": "XXF1_rtgsNGx"
      }
    },
    {
      "cell_type": "code",
      "source": [
        "def PerfectSquare(A):\n",
        "        summ = 1\n",
        "        if A == 1:\n",
        "            return 0\n",
        "        else:\n",
        "            for i in range(2,A):\n",
        "                if A%i == 0:\n",
        "                   summ += i\n",
        "            if summ == A:\n",
        "                return 1\n",
        "            else:\n",
        "                return 0\n"
      ],
      "metadata": {
        "id": "jAKVGKffrxm7"
      },
      "execution_count": null,
      "outputs": []
    },
    {
      "cell_type": "code",
      "source": [
        "PerfectSquare(6)"
      ],
      "metadata": {
        "colab": {
          "base_uri": "https://localhost:8080/"
        },
        "id": "qbIIRskSspWB",
        "outputId": "9cccac76-106a-40a6-a235-d30d1e2f6a8f"
      },
      "execution_count": null,
      "outputs": [
        {
          "output_type": "execute_result",
          "data": {
            "text/plain": [
              "1"
            ]
          },
          "metadata": {},
          "execution_count": 14
        }
      ]
    },
    {
      "cell_type": "markdown",
      "source": [
        "**5. Count of Prime?**\n",
        "\n",
        "**Problem Description**\n",
        "You will be given an integer n. You need to return the count of prime numbers less than or equal to n.\n",
        "\n",
        "\n",
        "Problem Constraints\n",
        "0 <= n <= 10^3\n",
        "\n",
        "\n",
        "Input Format\n",
        "Single input parameter n in function.\n",
        "\n",
        "\n",
        "Output Format\n",
        "Return the count of prime numbers less than or equal to n.\n",
        "\n",
        "\n",
        "**Example Input**\n",
        "\n",
        "Input 1: 19\n",
        "\n",
        "Input 2: 1\n",
        "\n",
        "\n",
        "**Example Output**\n",
        "\n",
        "Output 1: 8\n",
        "\n",
        "Output 2: 0"
      ],
      "metadata": {
        "id": "J4uL_VCMs0NK"
      }
    },
    {
      "cell_type": "code",
      "source": [
        " def PrimeCount(A):\n",
        "        summ = 1\n",
        "        if A < 0:\n",
        "            return 0\n",
        "        else:\n",
        "            for i in range(3,A+1,2):\n",
        "                count = 0\n",
        "                for j in range(1,i+1):\n",
        "                    if i%j == 0:\n",
        "                        count += 1\n",
        "                if count == 2:\n",
        "                    summ += 1\n",
        "            return summ"
      ],
      "metadata": {
        "id": "dYnl8kFKstxX"
      },
      "execution_count": null,
      "outputs": []
    },
    {
      "cell_type": "code",
      "source": [
        "PrimeCount(19)"
      ],
      "metadata": {
        "colab": {
          "base_uri": "https://localhost:8080/"
        },
        "id": "YkWMQIMDtFIK",
        "outputId": "b336a878-49e9-4a29-a1ff-40ce8944690f"
      },
      "execution_count": null,
      "outputs": [
        {
          "output_type": "execute_result",
          "data": {
            "text/plain": [
              "8"
            ]
          },
          "metadata": {},
          "execution_count": 16
        }
      ]
    },
    {
      "cell_type": "code",
      "source": [],
      "metadata": {
        "id": "_mThEkZitIF_"
      },
      "execution_count": null,
      "outputs": []
    }
  ]
}
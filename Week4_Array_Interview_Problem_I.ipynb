{
  "nbformat": 4,
  "nbformat_minor": 0,
  "metadata": {
    "colab": {
      "provenance": [],
      "authorship_tag": "ABX9TyPZI3zmUON/Sqv6KrZPpEj6",
      "include_colab_link": true
    },
    "kernelspec": {
      "name": "python3",
      "display_name": "Python 3"
    },
    "language_info": {
      "name": "python"
    }
  },
  "cells": [
    {
      "cell_type": "markdown",
      "metadata": {
        "id": "view-in-github",
        "colab_type": "text"
      },
      "source": [
        "<a href=\"https://colab.research.google.com/github/Shantayya/Problem-Solving/blob/main/Week4_Array_Interview_Problem_I.ipynb\" target=\"_parent\"><img src=\"https://colab.research.google.com/assets/colab-badge.svg\" alt=\"Open In Colab\"/></a>"
      ]
    },
    {
      "cell_type": "code",
      "execution_count": null,
      "metadata": {
        "id": "oKcwWoT2ibSj"
      },
      "outputs": [],
      "source": [
        "def LenlongestConse1(A):\n",
        "        count = 0\n",
        "        for i in A:\n",
        "            count += int(i)\n",
        "        \n",
        "        if count == len(A):\n",
        "            return count\n",
        "        ans = 0\n",
        "        for i in range(len(A)):\n",
        "          if A[i] == 0:   \n",
        "            left, right = 0,0\n",
        "            for j in range(i-1,-1,-1):\n",
        "                if A[j] == 1:\n",
        "                    left += 1\n",
        "                else:\n",
        "                    break\n",
        "            print(left)\n",
        "            for k in range(i+1, len(A)):\n",
        "                if A[k] == 1:\n",
        "                    right += 1\n",
        "                else:\n",
        "                    break\n",
        "            print(right)\n",
        "            ans = max(ans,left+right+1)\n",
        "            print(ans)\n",
        "\n",
        "        return ans"
      ]
    },
    {
      "cell_type": "markdown",
      "source": [
        "**1. Length of longest consecutve ones**\n",
        "\n",
        "Given a binary string A. It is allowed to do at most one swap between any 0 and 1. Find and return the length of the longest consecutive 1’s that can be achieved.\n",
        "\n",
        "\n",
        "Input Format\n",
        "\n",
        "The only argument given is string A.\n",
        "Output Format\n",
        "\n",
        "Return the length of the longest consecutive 1’s that can be achieved.\n",
        "Constraints\n",
        "\n",
        "1 <= length of string <= 1000000\n",
        "A contains only characters 0 and 1.\n",
        "For Example\n",
        "\n",
        "Input 1:\n",
        "    A = \"111000\"\n",
        "Output 1:\n",
        "    3\n",
        "\n",
        "Input 2:\n",
        "    A = \"111011101\"\n",
        "Output 2:\n",
        "    7"
      ],
      "metadata": {
        "id": "HMj3iKqNsyK4"
      }
    },
    {
      "cell_type": "code",
      "source": [
        "def LenlongestConse1(A):\n",
        "        count = 0\n",
        "        for i in A:\n",
        "            count += int(i)\n",
        "        \n",
        "        if count == len(A):\n",
        "            return count\n",
        "        ans = 0\n",
        "        for i in range(len(A)):\n",
        "          if A[i] == 0:   \n",
        "            left, right = 0,0\n",
        "            for j in range(i-1,-1,-1):\n",
        "                if A[j] == 1:\n",
        "                    left += 1\n",
        "                else:\n",
        "                    break\n",
        "            print(left)\n",
        "            for k in range(i+1, len(A)):\n",
        "                if A[k] == 1:\n",
        "                    right += 1\n",
        "                else:\n",
        "                    break\n",
        "            print(right)\n",
        "            ans = max(ans,left+right+1)\n",
        "            print(ans)\n",
        "\n",
        "        return ans"
      ],
      "metadata": {
        "id": "U1KhgbXmtAA1"
      },
      "execution_count": null,
      "outputs": []
    },
    {
      "cell_type": "code",
      "source": [
        "A = \"11010110000000000\"\n",
        "LenlongestConse1(A)"
      ],
      "metadata": {
        "colab": {
          "base_uri": "https://localhost:8080/"
        },
        "id": "pPVBm2grioGM",
        "outputId": "f00f2c75-8dce-4dce-bda6-de8ebe26081d"
      },
      "execution_count": null,
      "outputs": [
        {
          "output_type": "execute_result",
          "data": {
            "text/plain": [
              "0"
            ]
          },
          "metadata": {},
          "execution_count": 13
        }
      ]
    },
    {
      "cell_type": "markdown",
      "source": [
        "**2. Josephus Problem**\n",
        "\n",
        "Problem Description\n",
        "There are A people standing in a circle. Person 1 kills their immediate clockwise neighbour and pass the knife to the next person standing in circle. This process continues till there is only 1 person remaining. Find the last person standing in the circle.\n",
        "\n",
        "\n",
        "Problem Constraints\n",
        "1 <= A <= 105\n",
        "\n",
        "\n",
        "Input Format\n",
        "First argument A is an integer.\n",
        "\n",
        "\n",
        "Output Format\n",
        "Return an integer.\n",
        "\n",
        "\n",
        "**Example Input**\n",
        "\n",
        "Input 1:\n",
        "A = 4\n",
        "\n",
        "Input 2:\n",
        "A = 5\n",
        "\n",
        "\n",
        "**Example Output**\n",
        "\n",
        "Output 1:\n",
        "1\n",
        "\n",
        "Output 2:\n",
        "3"
      ],
      "metadata": {
        "id": "z0PbQRjytFTA"
      }
    },
    {
      "cell_type": "code",
      "source": [
        "import math\n",
        "def JosephusProb(A):\n",
        "        sqrnum = math.floor(math.log2(A))\n",
        "        print(sqrnum)\n",
        "        killnum = A - 2**sqrnum\n",
        "        print(killnum)\n",
        "        return (1+killnum*2)\n",
        "\n"
      ],
      "metadata": {
        "id": "ZggbqhJIiyFp"
      },
      "execution_count": null,
      "outputs": []
    },
    {
      "cell_type": "code",
      "source": [
        "JosephusProb(100)"
      ],
      "metadata": {
        "colab": {
          "base_uri": "https://localhost:8080/"
        },
        "id": "QZuUuGsSnNMc",
        "outputId": "9a60a4fb-361b-4ac0-8fc4-981dff02deb7"
      },
      "execution_count": null,
      "outputs": [
        {
          "output_type": "stream",
          "name": "stdout",
          "text": [
            "6\n",
            "36\n"
          ]
        },
        {
          "output_type": "execute_result",
          "data": {
            "text/plain": [
              "73"
            ]
          },
          "metadata": {},
          "execution_count": 30
        }
      ]
    },
    {
      "cell_type": "markdown",
      "source": [
        "**3. Christmas tree**\n",
        "\n",
        "Problem Description\n",
        "You are given an array A consisting of heights of Christmas trees and an array B of the same size consisting of the cost of each of the trees (Bi is the cost of tree Ai, where 1 ≤ i ≤ size(A)), and you are supposed to choose 3 trees (let's say, indices p, q, and r), such that Ap < Aq < Ar, where p < q < r.\n",
        "The cost of these trees is Bp + Bq + Br.\n",
        "\n",
        "You are to choose 3 trees such that their total cost is minimum. Return that cost.\n",
        "\n",
        "If it is not possible to choose 3 such trees return -1.\n",
        "\n",
        "\n",
        "Problem Constraints\n",
        "1 <= A[i], B[i] <= 109\n",
        "3 <= size(A) = size(B) <= 3000\n",
        "\n",
        "\n",
        "\n",
        "Input Format\n",
        "First argument is an integer array A.\n",
        "Second argument is an integer array B.\n",
        "\n",
        "\n",
        "Output Format\n",
        "Return an integer denoting the minimum cost of choosing 3 trees whose heights are strictly in increasing order, if not possible, -1.\n",
        "\n",
        "\n",
        "\n",
        "**Example Input**\n",
        "\n",
        "Input 1:\n",
        " A = [1, 3, 5]\n",
        " B = [1, 2, 3]\n",
        "\n",
        "Input 2:\n",
        " A = [1, 6, 4, 2, 6, 9]\n",
        " B = [2, 5, 7, 3, 2, 7]\n",
        "\n",
        "\n",
        "**Example Output**\n",
        "\n",
        "Output 1:\n",
        " 6 \n",
        "\n",
        "Output 2:\n",
        " 7 "
      ],
      "metadata": {
        "id": "vH4BMjowuRKd"
      }
    },
    {
      "cell_type": "code",
      "source": [
        "import sys\n",
        "def solve(self, A, B):\n",
        "        count, summ, ans = 0,0,sys.maxsize\n",
        "\n",
        "        for i in range(len(A)):\n",
        "            for j in range(i+1,len(A)):\n",
        "                for k in range(j+1,len(A)):\n",
        "                    if A[i] < A[j] < A[k]:\n",
        "                        summ = B[i] + B[j] + B[k]\n",
        "                        if ans > summ:\n",
        "                             ans = summ\n",
        "        \n",
        "        if ans == sys.maxsize:\n",
        "            return -1\n",
        "        else:\n",
        "            return ans\n",
        "              \n"
      ],
      "metadata": {
        "id": "z3iBQvTynbZO"
      },
      "execution_count": null,
      "outputs": []
    },
    {
      "cell_type": "code",
      "source": [
        "import sys\n",
        "def solve(self, A, B):\n",
        "        ans = sys.maxsize\n",
        "\n",
        "        for i in range(1,len(A)):\n",
        "            i_val = B[i]\n",
        "            j_val = sys.maxsize\n",
        "            k_val = sys.maxsize \n",
        "            for j in range(i-1,-1,-1):\n",
        "                if A[i] > A[j]:\n",
        "                    if j_val > B[j]:\n",
        "                        j_val = B[j]\n",
        "            \n",
        "            for k in range(i+1,len(A)):\n",
        "                if A[k] > A[i]:\n",
        "                    if k_val > B[k]:\n",
        "                        k_val = B[k]\n",
        "            i_val = i_val + j_val + k_val\n",
        "            ans = min(i_val,ans)\n",
        "        if ans == sys.maxsize:\n",
        "            return -1\n",
        "        else:\n",
        "            return ans\n",
        "              \n"
      ],
      "metadata": {
        "id": "sT7EMEI_l2Tu"
      },
      "execution_count": null,
      "outputs": []
    },
    {
      "cell_type": "code",
      "source": [
        "A = [ 6, 31, 33, 13, 82, 66, 9, 12, 69, 21, 17, 2, 50, 69, 90, 71, 31, 1, 13, 70, 94, 46, 89, 13, 55, 54, 67, 97, 28, 27, 62, 34, 41, 18, 15, 35, 13, 84, 93, 27, 89, 23, 6, 56, 94, 40, 54, 95, 47 ]\n",
        "print(len(A))"
      ],
      "metadata": {
        "id": "cOgwkM7tz3N4",
        "outputId": "4fd3a026-bfa5-4979-ffae-06557c8132b3",
        "colab": {
          "base_uri": "https://localhost:8080/"
        }
      },
      "execution_count": null,
      "outputs": [
        {
          "output_type": "stream",
          "name": "stdout",
          "text": [
            "49\n"
          ]
        }
      ]
    },
    {
      "cell_type": "markdown",
      "source": [
        "**4. Multiple rotation left of array**\n",
        "\n",
        "Problem Description\n",
        "Given an array of integers A and multiple values in B, which represents the number of times array A needs to be left rotated.\n",
        "\n",
        "Find the rotated array for each value and return the result in the from of a matrix where ith row represents the rotated array for the ith value in B.\n",
        "\n",
        "\n",
        "\n",
        "Problem Constraints\n",
        "1 <= length of both arrays <= 2000 -10^9 <= A[i] <= 10^9 0 <= B[i] <= 2000\n",
        "\n",
        "\n",
        "Input Format\n",
        "The first argument given is the integer array A.\n",
        "The second argument given is the integer array B.\n",
        "\n",
        "\n",
        "Output Format\n",
        "Return the resultant matrix.\n",
        "\n",
        "\n",
        "**Example Input**\n",
        "\n",
        "Input 1:\n",
        "    A = [1, 2, 3, 4, 5]\n",
        "    B = [2, 3]\n",
        "\n",
        "Input 2:\n",
        "    A = [5, 17, 100, 11]\n",
        "    B = [1]\n",
        "\n",
        "\n",
        "Example Output\n",
        "\n",
        "Output 1:\n",
        "    [ [3, 4, 5, 1, 2]\n",
        "     [4, 5, 1, 2, 3] ]\n",
        "\n",
        "Output 2:\n",
        "    [ [17, 100, 11, 5] ]"
      ],
      "metadata": {
        "id": "KZa9Rs_VuouO"
      }
    },
    {
      "cell_type": "code",
      "source": [
        "def Rotate(A, B):\n",
        "        C = []\n",
        "        for i in range(len(B)):\n",
        "            temp = []\n",
        "            num = B[i]%len(A)\n",
        "            print(num)\n",
        "            for j in range(num,len(A)):\n",
        "                temp.append(A[j])\n",
        "\n",
        "            for k in range(num):\n",
        "                temp.append(A[k])\n",
        "            C.append(temp)\n",
        "\n",
        "        return C\n",
        "        "
      ],
      "metadata": {
        "id": "CRONjO4Ez6JZ"
      },
      "execution_count": null,
      "outputs": []
    },
    {
      "cell_type": "code",
      "source": [
        "\n",
        "A = [1, 2, 3, 4, 5]\n",
        "B = [6,7,8]\n",
        "Rotate(A,B)"
      ],
      "metadata": {
        "colab": {
          "base_uri": "https://localhost:8080/"
        },
        "id": "dD5xbfdKXzXM",
        "outputId": "522bcb69-b93b-4e62-9358-2e31fef56cc6"
      },
      "execution_count": null,
      "outputs": [
        {
          "output_type": "stream",
          "name": "stdout",
          "text": [
            "1\n",
            "2\n",
            "3\n"
          ]
        },
        {
          "output_type": "execute_result",
          "data": {
            "text/plain": [
              "[[2, 3, 4, 5, 1], [3, 4, 5, 1, 2], [4, 5, 1, 2, 3]]"
            ]
          },
          "metadata": {},
          "execution_count": 5
        }
      ]
    },
    {
      "cell_type": "markdown",
      "source": [
        "**5. Maximum Positivity**\n",
        "\n",
        "Problem Description\n",
        "Given an array of integers A, of size N.\n",
        "\n",
        "Return the maximum size subarray of A having only non-negative elements. If there are more than one such subarray, return the one having the smallest starting index in A.\n",
        "\n",
        "NOTE: It is guaranteed that an answer always exists.\n",
        "\n",
        "\n",
        "\n",
        "Problem Constraints\n",
        "1 <= N <= 105\n",
        "\n",
        "-109 <= A[i] <= 109\n",
        "\n",
        "\n",
        "\n",
        "Input Format\n",
        "The first and only argument given is the integer array A.\n",
        "\n",
        "\n",
        "\n",
        "Output Format\n",
        "Return maximum size subarray of A having only non-negative elements. If there are more than one such subarrays, return the one having earliest starting index in A.\n",
        "\n",
        "\n",
        "**Example Input**\n",
        "\n",
        "Input 1:\n",
        " A = [5, 6, -1, 7, 8]\n",
        "\n",
        "Input 2:\n",
        " A = [1, 2, 3, 4, 5, 6]\n",
        "\n",
        "\n",
        "**Example Output**\n",
        "\n",
        "Output 1:\n",
        " [5, 6]\n",
        "\n",
        "Output 2:\n",
        " [1, 2, 3, 4, 5, 6]"
      ],
      "metadata": {
        "id": "iHGVpJtDt6QE"
      }
    },
    {
      "cell_type": "code",
      "source": [
        "def MaxPositiveSubArray(A):\n",
        "        C = []\n",
        "        i,j = 0,0\n",
        "        size = 0\n",
        "        start, end = 0,0\n",
        "        while i < len(A):\n",
        "            count = 0\n",
        "            if A[i] > 0:\n",
        "                j = i\n",
        "                while j < len(A):\n",
        "                    if A[j] > 0:\n",
        "                        count += 1\n",
        "                        j += 1\n",
        "                    else:\n",
        "                        break\n",
        "                \n",
        "                if size < count:\n",
        "                    size = count\n",
        "                    start = i\n",
        "                    end = j\n",
        "\n",
        "                i = j + 1\n",
        "            else:\n",
        "              i += 1\n",
        "        \n",
        "        for k in range(start,end):\n",
        "            C.append(A[k])\n",
        "        return C"
      ],
      "metadata": {
        "id": "jHBGKu6gX9Rr"
      },
      "execution_count": 8,
      "outputs": []
    },
    {
      "cell_type": "code",
      "source": [
        "A = [ -3674875, 5305422, 7665178, 205505, -7168198, -1398091, 5392310, -1700856, 1259052, -3056006 ]\n",
        "MaxPositiveSubArray(A)"
      ],
      "metadata": {
        "colab": {
          "base_uri": "https://localhost:8080/"
        },
        "id": "OWVRpYMhrF3V",
        "outputId": "7772f4d7-23b9-487e-aa34-de7635209642"
      },
      "execution_count": 9,
      "outputs": [
        {
          "output_type": "execute_result",
          "data": {
            "text/plain": [
              "[5305422, 7665178, 205505]"
            ]
          },
          "metadata": {},
          "execution_count": 9
        }
      ]
    },
    {
      "cell_type": "markdown",
      "source": [
        "**6. Count Increasing Triplet**\n",
        "\n",
        "Problem Description\n",
        "You are given an array A of N elements. Find the number of triplets i,j and k such that i<j<k and A[i]<A[j]<A[k]\n",
        "\n",
        "\n",
        "Problem Constraints\n",
        "1 <= N <= 103\n",
        "1 <= A[i] <= 109\n",
        "\n",
        "\n",
        "Input Format\n",
        "First argument A is an array of integers.\n",
        "\n",
        "\n",
        "Output Format\n",
        "Return an integer.\n",
        "\n",
        "\n",
        "Example Input\n",
        "Input 1:\n",
        "A = [1, 2, 4, 3]\n",
        "Input 2:\n",
        "A = [2, 1, 2, 3]\n",
        "\n",
        "\n",
        "Example Output\n",
        "Output 1:\n",
        "2\n",
        "Output 2:\n",
        "1"
      ],
      "metadata": {
        "id": "hJEXWlMvtjEt"
      }
    },
    {
      "cell_type": "code",
      "source": [
        "def CountTriplet(A):\n",
        "        count = 0\n",
        "        for i in range(len(A)):\n",
        "            left, right = 0,0\n",
        "            for j in range(i-1,-1,-1):\n",
        "                if A[j] < A[i]:\n",
        "                    left += 1\n",
        "            \n",
        "            for k in range(i+1,len(A)):\n",
        "                if A[k] > A[i]:\n",
        "                    right += 1\n",
        "        \n",
        "            count += left * right\n",
        "        return count\n",
        "             \n"
      ],
      "metadata": {
        "id": "fiTG17cMrWOH"
      },
      "execution_count": 10,
      "outputs": []
    },
    {
      "cell_type": "code",
      "source": [
        "A = [1, 2, 4, 3]\n",
        "CountTriplet(A)"
      ],
      "metadata": {
        "colab": {
          "base_uri": "https://localhost:8080/"
        },
        "id": "fdZJz6CptrrM",
        "outputId": "536059df-41eb-45d0-d02d-398a00344cce"
      },
      "execution_count": 11,
      "outputs": [
        {
          "output_type": "execute_result",
          "data": {
            "text/plain": [
              "2"
            ]
          },
          "metadata": {},
          "execution_count": 11
        }
      ]
    },
    {
      "cell_type": "code",
      "source": [],
      "metadata": {
        "id": "vTN-AC0HtvMH"
      },
      "execution_count": null,
      "outputs": []
    }
  ]
}